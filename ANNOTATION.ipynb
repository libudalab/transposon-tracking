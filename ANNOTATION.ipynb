{
 "cells": [
  {
   "cell_type": "markdown",
   "metadata": {},
   "source": [
    "**Table of contents**<a id='toc0_'></a>    \n",
    "- 1. [IMPORTS](#toc1_)    \n",
    "- 2. [DEFINE CONSTANT VARIABLES](#toc2_)    \n",
    "- 3. [FX: `build_TE_df_from_gff3`](#toc3_)    \n",
    "- 4. [IMPORT CHROMOSOME FILES AND GENERATE CHROMOSOME DATAFRAMES](#toc4_)    \n",
    "  - 4.1. [FXS: Get chromosome information](#toc4_1_)    \n",
    "    - 4.1.1. [`get_chr_file`](#toc4_1_1_)    \n",
    "    - 4.1.2. [`fix_chr_names`](#toc4_1_2_)    \n",
    "    - 4.1.3. [`get_relative_positions`](#toc4_1_3_)    \n",
    "    - 4.1.4. [`make_chr_df_from_fasta`](#toc4_1_4_)    \n",
    "    - 4.1.5. [Define chromosome lengths dataframes](#toc4_1_5_)    \n",
    "  - 4.2. [IMPORT TE FILES AND CREATE TE DATAFRAMES](#toc4_2_)    \n",
    "- 5. [SIZE FILTERING](#toc5_)    \n",
    "  - 5.1. [FX: `create_small_range_dataframe`](#toc5_1_)    \n",
    "  - 5.2. [Generate small range dataframes](#toc5_2_)    \n",
    "  - 5.3. [FX: `make_gff3`](#toc5_3_)    \n",
    "  - 5.4. [STATS: percent of genome that is TE](#toc5_4_)    \n",
    "- 6. [GRAPHS](#toc6_)    \n",
    "  - 6.1. [graphing variables](#toc6_1_)    \n",
    "  - 6.2. [FX: `one_x_axis`](#toc6_2_)    \n",
    "  - 6.3. [ALL TE HISTOGRAMS](#toc6_3_)    \n",
    "    - 6.3.1. [FX: `make_ultimate_hist_onegen` (DNA and retro for N2, CB, VC2010 or KimCB)](#toc6_3_1_)    \n",
    "    - 6.3.2. [FX: `make_ultimate_hist_allgen` (all genomes for DNA or retro)](#toc6_3_2_)    \n",
    "  - 6.4. [SPECIFIC TE FAMILY HISTOGRAMS](#toc6_4_)    \n",
    "    - 6.4.1. [FX: `make_spec_family_ult_hist`](#toc6_4_1_)    \n",
    "    - 6.4.2. [FX: `make_spec_family_ult_hist_allgenomes`](#toc6_4_2_)    \n",
    "    - 6.4.3. [FX: `track_down_hist_peaks`](#toc6_4_3_)    \n",
    "    - 6.4.4. [FX: `make_every_fam_grid`](#toc6_4_4_)    \n",
    "  - 6.5. [TE COUNTS BAR GRAPH](#toc6_5_)    \n",
    "    - 6.5.1. [FX: `make_te_counts_perfam`](#toc6_5_1_)    \n",
    "    - 6.5.2. [FX: `make_class_counts_allgenomes`](#toc6_5_2_)    \n",
    "  - 6.6. [TE SIZES GRAPHS](#toc6_6_)    \n",
    "    - 6.6.1. [boxplot of all sizes on one plot](#toc6_6_1_)    \n",
    "    - 6.6.2. [FX: `broken_axis_box` ](#toc6_6_2_)    \n",
    "    - 6.6.3. [FX: `make_boxplot`](#toc6_6_3_)    \n",
    "    - 6.6.4. [FX: `make_split_violin`](#toc6_6_4_)    \n",
    "    - 6.6.5. [FX: `make_box_allgen`](#toc6_6_5_)    \n",
    "\n",
    "<!-- vscode-jupyter-toc-config\n",
    "\tnumbering=true\n",
    "\tanchor=true\n",
    "\tflat=false\n",
    "\tminLevel=1\n",
    "\tmaxLevel=6\n",
    "\t/vscode-jupyter-toc-config -->\n",
    "<!-- THIS CELL WILL BE REPLACED ON TOC UPDATE. DO NOT WRITE YOUR TEXT IN THIS CELL -->"
   ]
  },
  {
   "cell_type": "markdown",
   "metadata": {},
   "source": [
    "# 1. <a id='toc1_'></a>[IMPORTS](#toc0_)"
   ]
  },
  {
   "cell_type": "code",
   "execution_count": 80,
   "id": "a22cb473",
   "metadata": {
    "ExecuteTime": {
     "end_time": "2023-01-13T23:59:45.173327Z",
     "start_time": "2023-01-13T23:59:40.901708Z"
    }
   },
   "outputs": [
    {
     "name": "stderr",
     "output_type": "stream",
     "text": [
      "/var/folders/60/m3wm021x08vbp7kk3s0t94c40000gn/T/ipykernel_61597/2728266925.py:1: DeprecationWarning: Importing display from IPython.core.display is deprecated since IPython 7.14, please import from IPython display\n",
      "  from IPython.core.display import display, HTML\n"
     ]
    },
    {
     "data": {
      "text/html": [
       "<style>.container { width:100% !important; }</style>"
      ],
      "text/plain": [
       "<IPython.core.display.HTML object>"
      ]
     },
     "metadata": {},
     "output_type": "display_data"
    }
   ],
   "source": [
    "from IPython.core.display import display, HTML\n",
    "display(HTML(\"<style>.container { width:100% !important; }</style>\"))\n",
    "from matplotlib import cm\n",
    "import seaborn as sns\n",
    "sns.set(style=\"white\")\n",
    "import pandas as pd\n",
    "from matplotlib.colors import ListedColormap, LinearSegmentedColormap\n",
    "from matplotlib.patches import Patch\n",
    "import csv\n",
    "import io\n",
    "from Bio import SeqIO\n",
    "import pickle\n",
    "from IPython.display import display, Markdown\n",
    "import matplotlib.pyplot as plt\n"
   ]
  },
  {
   "cell_type": "markdown",
   "metadata": {},
   "source": [
    "# 2. <a id='toc2_'></a>[DEFINE CONSTANT VARIABLES](#toc0_)\n",
    "- includes variables for colors, order lists, chromosome name lists etc that are used throughout the notebook"
   ]
  },
  {
   "cell_type": "code",
   "execution_count": 13,
   "id": "5be04c11",
   "metadata": {
    "ExecuteTime": {
     "end_time": "2023-01-13T23:59:45.199914Z",
     "start_time": "2023-01-13T23:59:45.190369Z"
    }
   },
   "outputs": [],
   "source": [
    "# file path base\n",
    "filebase = '/Users/coraalbers/Documents/TEUlt/'\n",
    "\n",
    "# retro\n",
    "retro_cmap = ListedColormap(['#8B4F98','#3969AC','#F2B701','#E73F74','#80BA5A'])\n",
    "retro_color_dict = {'Copia':'#3969AC', 'ERV':'#80BA5A', 'Gypsy':'#8B4F98', 'LINE':'#F2B701', 'SINE':'#E73F74'}\n",
    "retro_color_list = ['#8B4F98', '#3969AC', '#F2B701', '#E73F74', '#80BA5A']\n",
    "\n",
    "\n",
    "# dna\n",
    "colorblind_list = sns.color_palette(palette = 'colorblind', as_cmap = True)\n",
    "dna_cmap = ListedColormap(colorblind_list)\n",
    "\n",
    "dna_color_dict = {'CMC':'#027e73', 'hAT':'de8f05', 'Helitron':'#fbafe4', 'MITE':'#ca9161', 'Novosib':'#949494', 'Sola':'#cc78bc', 'Tc1-Mariner':'#d55e00', 'Zator':'#0173b2'}\n",
    "dna_color_list = ['#0173b2', '#de8f05', '#027e73', '#d55e00', '#cc78bc', '#949494', '#fbafe4', '#ca9161']\n",
    "\n",
    "# orders\n",
    "dna_order = ['Zator', 'hAT', 'CMC', 'Tc1/Mariner', 'Sola', 'Novosib', 'Helitron', 'MITEs']\n",
    "retro_order = ['Gypsy', 'Copia', 'LINE', 'SINE', 'ERV']\n",
    "\n",
    "# chrom lists\n",
    "N2chromosomes = ['N2_chrI', 'N2_chrII', 'N2_chrIII', 'N2_chrIV', 'N2_chrV', 'N2_chrX']\n",
    "CBchromosomes = ['CB_chrI', 'CB_chrII', 'CB_chrIII', 'CB_chrIV', 'CB_chrV', 'CB_chrX']\n",
    "kimCBchromosomes = ['kCB_chrI', 'kCB_chrII', 'kCB_chrIII', 'kCB_chrIV', 'kCB_chrV', 'kCB_chrX']\n",
    "kimCBchromosomes_num = ['CP038187.1','CP038188.1','CP038189.1','CP038190.1','CP038191.1','CP038192.1' ]\n",
    "vc2010chromosomes = ['vc_chrI', 'vc_chrII', 'vc_chrIII', 'vc_chrIV', 'vc_chrV', 'vc_chrX']\n",
    "vc2010chromosomes_num = ['UNSB01000001.1','UNSB01000002.1','UNSB01000003.1','UNSB01000004.1','UNSB01000005.1',]\n",
    "chromosomes = ['Chr I', 'Chr II', 'Chr III', 'Chr IV', 'Chr V', 'X Chr']\n",
    "chromosomes_1 = ['I_1', 'II_1', 'III_1', 'IV', 'V_1', 'X_1']\n",
    "chromosomes_roman = ['I', 'II', 'III', 'IV', 'V', 'X']\n"
   ]
  },
  {
   "cell_type": "markdown",
   "metadata": {},
   "source": [
    "# 3. <a id='toc3_'></a>[FX: `build_TE_df_from_gff3`](#toc0_)\n",
    "- import gff3, calculate TE sizes and add in seq records, create dataframe, sort dataframe first by chromosome name and then start position\n",
    "- make sure to check the names of your chromosomes in your gff3 file match the names in the `gff_chrom_id` list in the function so that they are replaced with the TEUlt names correctly"
   ]
  },
  {
   "cell_type": "code",
   "execution_count": 34,
   "id": "ca9af1fe",
   "metadata": {
    "ExecuteTime": {
     "end_time": "2023-01-13T23:59:45.231326Z",
     "start_time": "2023-01-13T23:59:45.219111Z"
    }
   },
   "outputs": [],
   "source": [
    "def build_TE_df_from_gff3(gff3_file: str):\n",
    "    \n",
    "    gff_chrom_id = ['seq1', 'seq2', 'seq3', 'seq4', 'seq5', 'seq6']\n",
    "    chromosomes = ['Chr I', 'Chr II', 'Chr III', 'Chr IV', 'Chr V', 'X Chr']\n",
    "#     chromosomes = ['chrI', 'chrII', 'chrIII', 'chrIV', 'chrV', 'chrX']\n",
    "    \n",
    "    gff_list = []\n",
    "    \n",
    "    with open(gff3_file, newline = '') as lines:                #open gff file, take as tab delimited, create huge list that is the gff file\n",
    "#         \n",
    "#         line_reader = csv.reader(x.replace('\\0', '') for x in lines)\n",
    "        line_reader = csv.reader(lines, delimiter='\\t')\n",
    "        for line in line_reader:\n",
    "#             print(line)\n",
    "            gff_list.append(line)\n",
    "\n",
    "    gff_data = []\n",
    "    \n",
    "    for i in range(len(gff_list)):\n",
    "        \n",
    "#         print(i)\n",
    "        temp = [ gff_list[i][0], int(gff_list[i][3]), int(gff_list[i][4]), gff_list[i][5], gff_list[i][6] ] #chromsome, start, end, score, strand...\n",
    "        \n",
    "        size = int(gff_list[i][4]) - int(gff_list[i][3]) ##get TE size (stop_pos - start_pos) \n",
    "        temp.append(size)\n",
    "        \n",
    "        class_start = gff_list[i][8].find('(') +1\n",
    "        class_end = gff_list[i][8].find(')')\n",
    "        \n",
    "        class_info = gff_list[i][8][class_start:class_end].split(',') #find transposon class info/descriptions \n",
    "        \n",
    "        if len(class_info) == 3: ##if not a helitron...\n",
    "            \n",
    "            family = class_info[0]\n",
    "            sub_class = class_info[1]\n",
    "            main_class = class_info[2]\n",
    "\n",
    "\n",
    "            temp.append(family)\n",
    "            temp.append(sub_class)\n",
    "            temp.append(main_class) ##add these three class/ID fields to the temp line\n",
    "            \n",
    "        elif len(class_info) == 2: #if a helitron...\n",
    "            \n",
    "            family = class_info[0]\n",
    "            sub_class = '...'\n",
    "            main_class = class_info[1]\n",
    "\n",
    "\n",
    "            temp.append(family)\n",
    "            temp.append(sub_class)\n",
    "            temp.append(main_class) ##add these three class/ID fields to the temp line\n",
    "            \n",
    "        \n",
    "        gff_data.append(temp) ##append each \"line\" to data list of lists\n",
    "      \n",
    "    gff_df = pd.DataFrame(gff_data, columns=[\"Chromosome\", \"Start\", \"Stop\", \"Score:Probability\", \"Strand\", 'Size', 'Family', 'Subclass', 'Class']) #turn list of lists into dataframe\n",
    "    \n",
    "    for i in range(6):\n",
    "        \n",
    "        gff_df['Chromosome'] = gff_df['Chromosome'].replace(gff_chrom_id[i], chromosomes[i]) ##replace TransposonUltimate chromosome names with something better\n",
    "        \n",
    "    gff_df_sorted = gff_df.sort_values(by=['Chromosome', 'Start'], axis=0, ascending=True, ignore_index=True) ##sort by chromosome name first, then starting position within each chromosome, reindex rows...\n",
    "    \n",
    "    return gff_df_sorted, gff_list"
   ]
  },
  {
   "cell_type": "markdown",
   "metadata": {},
   "source": [
    "# 4. <a id='toc4_'></a>[IMPORT CHROMOSOME FILES AND GENERATE CHROMOSOME DATAFRAMES](#toc0_)\n",
    "## 4.1. <a id='toc4_1_'></a>[FXS: Get chromosome information](#toc0_)\n",
    "### 4.1.1. <a id='toc4_1_1_'></a>[`get_chr_file`](#toc0_)\n",
    "- import chr file and make df\n",
    "- this function is specific to the chr_lengths.txt file included, and could also be easily altered to accept more or less genomes within the chr_lengths.txt file (ex. 4 genomes instead of 2)\n",
    "### 4.1.2. <a id='toc4_1_2_'></a>[`fix_chr_names`](#toc0_)\n",
    "- changes chromosome names to the names used by TEUlt\n",
    "- change the `old_chr_names` list within the function to the names of your chromosomes\n",
    "\n",
    "### 4.1.3. <a id='toc4_1_3_'></a>[`get_relative_positions`](#toc0_)\n",
    "- calculates the relative start positions of transposons as a fraction of the length of the genome using the chromosome lengths from chr_df\n",
    "- allows for comparison of position of TEs between chromosomes with different lengths\n",
    "\n",
    "### 4.1.4. <a id='toc4_1_4_'></a>[`make_chr_df_from_fasta`](#toc0_)\n",
    "- makes the needed chromosome dataframe from a genome's fasta file (separates out chromosome sequences and gets the chromosome, start and stop positions)"
   ]
  },
  {
   "cell_type": "code",
   "execution_count": 35,
   "id": "2fa19366",
   "metadata": {
    "ExecuteTime": {
     "end_time": "2023-01-13T23:59:45.259356Z",
     "start_time": "2023-01-13T23:59:45.252239Z"
    }
   },
   "outputs": [],
   "source": [
    "def get_chr_file(chr_lengths_file: str):\n",
    "    chr_lines_list = []\n",
    "    with open(chr_lengths_file, newline = '') as chr_lines:\n",
    "        chr_line_reader = csv.reader(chr_lines, delimiter='\\t')\n",
    "        for line in chr_line_reader:\n",
    "            chr_lines_list.append(line)\n",
    "            \n",
    "    N2_chr_list = []\n",
    "    CB_chr_list = []\n",
    "    for i in range(len(chr_lines_list)):\n",
    "        \n",
    "        if chr_lines_list[i][0] == 'Chr':\n",
    "            continue\n",
    "            \n",
    "        elif chr_lines_list[i][3] == 'Libuda N2':\n",
    "            chr_lines_list[i][2] = int(chr_lines_list[i][2])\n",
    "            N2_chr_list.append(chr_lines_list[i])\n",
    "            \n",
    "        elif chr_lines_list[i][3] == 'Libuda CB':\n",
    "            chr_lines_list[i][2] = int(chr_lines_list[i][2])\n",
    "            CB_chr_list.append(chr_lines_list[i])\n",
    "            \n",
    "    N2_chr_df = pd.DataFrame(N2_chr_list, columns = ['chr', 'start', 'end', 'strain'])\n",
    "    \n",
    "    CB_chr_df = pd.DataFrame(CB_chr_list, columns = ['chr', 'start', 'end', 'strain'])\n",
    "            \n",
    "    return N2_chr_df, CB_chr_df\n",
    "\n",
    "def fix_chr_names(dataframe):\n",
    "    \n",
    "    old_chr_names = ['I', 'II', 'III', 'IV', 'V', 'X']\n",
    "\n",
    "    for index, row in dataframe.iterrows():\n",
    "        if dataframe.at[index, 'chr'] == old_chr_names[0]:\n",
    "            dataframe.at[index, 'chr'] = 'Chr I'\n",
    "        elif dataframe.at[index, 'chr'] == old_chr_names[1]:\n",
    "            dataframe.at[index, 'chr'] = 'Chr II'\n",
    "        elif dataframe.at[index, 'chr'] == old_chr_names[2]:\n",
    "            dataframe.at[index, 'chr'] = 'Chr III'\n",
    "        elif dataframe.at[index, 'chr'] == old_chr_names[3]:\n",
    "            dataframe.at[index, 'chr'] = 'Chr IV'\n",
    "        elif dataframe.at[index, 'chr'] == old_chr_names[4]:\n",
    "            dataframe.at[index, 'chr'] = 'Chr V'\n",
    "        elif dataframe.at[index, 'chr'] == old_chr_names[5]:\n",
    "            dataframe.at[index, 'chr'] = 'X Chr'\n",
    "            \n",
    "def get_relative_positions(all_df, chr_df):\n",
    "    for index, row in all_df.iterrows():\n",
    "        for cindex, crow in chr_df.iterrows():\n",
    "            if (all_df.at[index, 'Chromosome']) == (chr_df.at[cindex, 'chr']): # if the same chr\n",
    "                all_df.at[index, 'Relative Start Position'] = int(all_df.at[index, 'Start']) / int(chr_df.at[cindex, 'end']) #\n",
    "\n",
    "def make_chr_df_from_fasta(fasta_file: str, species: str):\n",
    "    info = []\n",
    "    counter = 0\n",
    "    for record in SeqIO.parse(fasta_file, \"fasta\"):\n",
    "        \n",
    "        chr_name = chromosomes_roman[kim_counter]\n",
    "        start = 1\n",
    "        end = len(record)\n",
    "        species = species\n",
    "        \n",
    "        info.append([chr_name, start, end, species])\n",
    "        counter = counter + 1\n",
    "    #     print(\"%s %i\" % (record.id, len(record)))\n",
    "\n",
    "    chr_df = pd.DataFrame(info, columns = ['chr', 'start', 'end', 'strain'])\n",
    "    return chr_df\n"
   ]
  },
  {
   "cell_type": "markdown",
   "metadata": {},
   "source": [
    "### 4.1.5. <a id='toc4_1_5_'></a>[Define chromosome lengths dataframes](#toc0_)"
   ]
  },
  {
   "cell_type": "code",
   "execution_count": 29,
   "id": "7a467570",
   "metadata": {
    "ExecuteTime": {
     "end_time": "2023-01-13T23:59:48.862217Z",
     "start_time": "2023-01-13T23:59:48.851713Z"
    }
   },
   "outputs": [
    {
     "name": "stdout",
     "output_type": "stream",
     "text": [
      "done\n"
     ]
    }
   ],
   "source": [
    "chr_lengths_file = filebase + 'chr_lengths.txt'\n",
    "\n",
    "\n",
    "N2_chr_df = get_chr_file(chr_lengths_file)[0]\n",
    "CB_chr_df = get_chr_file(chr_lengths_file)[1]\n",
    "\n",
    "# kimcb_fa_file = filebase + '2019_CB4856_genome.fasta'\n",
    "# kimcb_chr_df = make_chr_df_from_fasta(kimcb_fa_file, 'Kim CB4856')\n",
    "\n",
    "# vc_fa_file = filebase + 'N2_vc2010_genome.fasta'\n",
    "# vc_chr_df = make_chr_df_from_fasta(vc_fa_file, 'VC2010')\n",
    "\n",
    "fix_chr_names(N2_chr_df)\n",
    "fix_chr_names(CB_chr_df)\n",
    "# fix_chr_names(kimcb_chr_df)\n",
    "# fix_chr_names(vc_chr_df)\n",
    "\n",
    "print('done')"
   ]
  },
  {
   "cell_type": "markdown",
   "metadata": {},
   "source": [
    "## 4.2. <a id='toc4_2_'></a>[IMPORT TE FILES AND CREATE TE DATAFRAMES](#toc0_)\n",
    "dataframe names:\\\n",
    "N2_all_df, CB_all_df (all tes)\\\n",
    "N2_dna_tes, CB_dna_tes (only DNA (class II) tes)\\\n",
    "N2_retro_tes, CB_retro_tes (only retro (class I) tes)"
   ]
  },
  {
   "cell_type": "code",
   "execution_count": 16,
   "id": "7c47e678",
   "metadata": {
    "ExecuteTime": {
     "end_time": "2023-01-14T00:00:26.889369Z",
     "start_time": "2023-01-13T23:59:52.685615Z"
    }
   },
   "outputs": [
    {
     "name": "stdout",
     "output_type": "stream",
     "text": [
      "done\n"
     ]
    }
   ],
   "source": [
    "N2_file = filebase + 'N2_FinalAnnotations_Transposons.gff3'\n",
    "CB_file = filebase + 'CB_FinalAnnotations_Transposons.gff3'\n",
    "# kimCB_file = '/Users/coraalbers/Library/CloudStorage/OneDrive-UniversityOfOregon/Desktop/labfiles/TEUlt_KimCB4856/kimCB_TEUlt/finalResults/FinalAnnotations_Transposons.gff3'\n",
    "# vc_file = '/Users/coraalbers/Library/CloudStorage/OneDrive-UniversityOfOregon/Desktop/labfiles/TEUlt_VC2010/finalResults/FinalAnnotations_Transposons.gff3'\n",
    "\n",
    "N2_all_list = build_TE_df_from_gff3(N2_file)\n",
    "N2_all_df = N2_all_list[0]\n",
    "N2_data_list = N2_all_list[1]\n",
    "length = ['N2']*len(N2_all_df.Chromosome)\n",
    "N2_all_df['Strain'] = length\n",
    "\n",
    "CB_all_list = build_TE_df_from_gff3(CB_file)\n",
    "CB_all_df = CB_all_list[0]\n",
    "CB_data_list = CB_all_list[1]\n",
    "length2 = ['CB']*len(CB_all_df.Chromosome)\n",
    "CB_all_df['Strain'] = length2\n",
    "\n",
    "# kimCB_all_list = build_TE_df_from_gff3(kimCB_file)\n",
    "# kimCB_all_df = kimCB_all_list[0]\n",
    "# kimCB_data_list = kimCB_all_list[1]\n",
    "# length3 = ['kimCB']*len(kimCB_all_df.Chromosome)\n",
    "# kimCB_all_df['Strain'] = length3\n",
    "\n",
    "# vc_all_list = build_TE_df_from_gff3(vc_file)\n",
    "# vc_all_df = vc_all_list[0]\n",
    "# vc_data_list = vc_all_list[1]\n",
    "# length4 = ['VC2010']*len(vc_all_df.Chromosome)\n",
    "# vc_all_df['Strain'] = length4\n",
    "\n",
    "\n",
    "get_relative_positions(N2_all_df, N2_chr_df)\n",
    "get_relative_positions(CB_all_df, CB_chr_df)\n",
    "# get_relative_positions(kimCB_all_df, kimcb_chr_df)\n",
    "# get_relative_positions(vc_all_df, vc_chr_df)\n",
    "\n",
    "print('done')"
   ]
  },
  {
   "cell_type": "markdown",
   "metadata": {},
   "source": [
    "# 5. <a id='toc5_'></a>[SIZE FILTERING](#toc0_)\n",
    "- filter out TEs that are outside the reasonable lengths expected of TEs that  size\n",
    "- these parameters are listed in the `range_values` dict in the `create_small_range_dataframe` function and can be changed however needed\n",
    "- alternatively, size filtering can be skipped altogether if wanted\n",
    "## 5.1. <a id='toc5_1_'></a>[FX: `create_small_range_dataframe`](#toc0_)\n"
   ]
  },
  {
   "cell_type": "code",
   "execution_count": 32,
   "id": "9dd7bd90",
   "metadata": {
    "ExecuteTime": {
     "end_time": "2023-01-14T00:00:50.242289Z",
     "start_time": "2023-01-14T00:00:50.231881Z"
    }
   },
   "outputs": [],
   "source": [
    "def create_small_range_dataframe(dataframe):\n",
    "    \n",
    "    range_values = {'CMC':20000, \n",
    "                    'Helitron':20000, \n",
    "                    'Zator':15000, \n",
    "                    'hAT':20000, \n",
    "                    'Sola':7000, \n",
    "                    'Tc1-Mariner':20000,\n",
    "                    'MITE':1000, \n",
    "                    'Novosib':3000,\n",
    "                    'Copia':20000,\n",
    "                    'Gypsy':20000,\n",
    "                    'LINE':10000, \n",
    "                    'ERV':8000, \n",
    "                    'SINE':600}\n",
    "    \n",
    "    filt_counts = {'CMC':0, 'Zator':0, 'hAT':0, 'Gypsy':0, 'Copia':0, 'Sola':0, 'Tc1-Mariner':0,\n",
    "       'MITE':0, 'Helitron':0, 'Novosib':0, 'LINE':0, 'ERV':0, 'SINE':0}\n",
    "    \n",
    "    datalist = dataframe.values.tolist()\n",
    "    \n",
    "    filtered_list = []\n",
    "    elim_list = []\n",
    "    for i in range(len(datalist)):\n",
    "        family_name = datalist[i][6]\n",
    "        if datalist[i][5] <= range_values[family_name]:\n",
    "            filtered_list.append(datalist[i])\n",
    "        else:\n",
    "            elim_list.append(datalist[i])\n",
    "#             filt_counts[family_name] = filt_counts[family_name] + 1\n",
    "            \n",
    "    filtered_dataframe = pd.DataFrame(filtered_list, columns = ['Chromosome', 'Start', 'Stop', 'Score:Probability', 'Strand', 'Size',\n",
    "       'Family', 'Subclass', 'Class', 'Strain', 'Relative Start Position'])\n",
    "    elim_dataframe = pd.DataFrame(elim_list, columns = ['Chromosome', 'Start', 'Stop', 'Score:Probability', 'Strand', 'Size',\n",
    "       'Family', 'Subclass', 'Class', 'Strain', 'Relative Start Position'])\n",
    "    \n",
    "    \n",
    "    original_counts = dataframe['Family'].value_counts().to_dict()\n",
    "    \n",
    "    filtered_counts = filtered_dataframe['Family'].value_counts().to_dict()\n",
    "    elim_counts = elim_dataframe['Family'].value_counts().to_dict()\n",
    "    \n",
    "    strain = filtered_dataframe.at[1, 'Strain']\n",
    "    print(strain, 'fraction elimimated by filter')\n",
    "    for key in original_counts.keys():\n",
    "        filtered = (1- filtered_counts[key]/original_counts[key])\n",
    "        format_filtered = \"{:.5f}\".format(filtered)\n",
    "        print(\"{0:15} {1}\".format(key, format_filtered))\n",
    "\n",
    "#     print(elim_counts)\n",
    "\n",
    "    return filtered_dataframe, elim_dataframe"
   ]
  },
  {
   "cell_type": "markdown",
   "metadata": {},
   "source": [
    "## 5.2. <a id='toc5_2_'></a>[Generate small range dataframes](#toc0_)\n",
    "- create dataframes from the size filtered TEs\n",
    "- create subsetted dataframes of only DNA and Retro TEs\n",
    "- create a large dataframe with all of the TEs from all the genomes"
   ]
  },
  {
   "cell_type": "code",
   "execution_count": 36,
   "id": "9100118d",
   "metadata": {
    "ExecuteTime": {
     "end_time": "2023-01-14T00:00:51.173107Z",
     "start_time": "2023-01-14T00:00:50.866177Z"
    },
    "scrolled": false
   },
   "outputs": [
    {
     "name": "stdout",
     "output_type": "stream",
     "text": [
      "N2 fraction elimimated by filter\n",
      "Zator           0.00044\n",
      "hAT             0.00025\n",
      "Tc1-Mariner     0.00107\n",
      "CMC             0.00533\n",
      "Sola            0.00243\n",
      "Gypsy           0.00358\n",
      "Copia           0.00000\n",
      "MITE            0.02817\n",
      "Novosib         0.08000\n",
      "Helitron        0.00000\n",
      "SINE            0.00000\n",
      "ERV             0.00000\n",
      "LINE            0.00000\n",
      "CB fraction elimimated by filter\n",
      "Zator           0.00011\n",
      "hAT             0.00026\n",
      "CMC             0.00248\n",
      "Tc1-Mariner     0.00129\n",
      "Sola            0.00851\n",
      "Gypsy           0.00337\n",
      "MITE            0.02162\n",
      "Copia           0.00000\n",
      "Helitron        0.00000\n",
      "Novosib         0.17647\n",
      "SINE            0.00000\n",
      "LINE            0.00000\n",
      "ERV             0.00000\n",
      "should be 91059 for all 4 genomes: 36479\n"
     ]
    }
   ],
   "source": [
    "N2_all_filter_list = create_small_range_dataframe(N2_all_df)\n",
    "CB_all_filter_list = create_small_range_dataframe(CB_all_df)\n",
    "\n",
    "N2_all_filter_df = N2_all_filter_list[0]\n",
    "CB_all_filter_df = CB_all_filter_list[0]\n",
    "\n",
    "N2_elim_df = N2_all_filter_list[1]\n",
    "CB_elim_df = CB_all_filter_list[1]\n",
    "\n",
    "length = ['N2']*len(N2_all_filter_df.Chromosome)\n",
    "N2_all_filter_df['Strain'] = length\n",
    "\n",
    "length2 = ['CB']*len(CB_all_filter_df.Chromosome)\n",
    "CB_all_filter_df['Strain'] = length2\n",
    "\n",
    "\n",
    "N2_dna_tes = N2_all_filter_df[N2_all_filter_df['Class']=='DNATransposon']\n",
    "N2_retro_tes = N2_all_filter_df[N2_all_filter_df['Class']!='DNATransposon']\n",
    "\n",
    "CB_dna_tes = CB_all_filter_df[CB_all_filter_df['Class']=='DNATransposon']\n",
    "CB_retro_tes = CB_all_filter_df[CB_all_filter_df['Class']!='DNATransposon']\n",
    "\n",
    "# kimCB_all_filter_list = create_small_range_dataframe(kimCB_all_df)\n",
    "# kimCB_all_filter_df = kimCB_all_filter_list[0]\n",
    "# kimCB_elim_df = kimCB_all_filter_list[1]\n",
    "# length3 = ['kimCB']*len(kimCB_all_filter_df.Chromosome)\n",
    "# kimCB_all_filter_df['Strain'] = length3\n",
    "\n",
    "# kimCB_dna_tes = kimCB_all_filter_df[kimCB_all_filter_df['Class']=='DNATransposon']\n",
    "# kimCB_retro_tes = kimCB_all_filter_df[kimCB_all_filter_df['Class']!='DNATransposon']\n",
    "\n",
    "\n",
    "# vc_all_filter_list = create_small_range_dataframe(vc_all_df)\n",
    "# vc_all_filter_df = vc_all_filter_list[0]\n",
    "# vc_elim_df = vc_all_filter_list[1]\n",
    "# length4 = ['VC2010']*len(vc_all_filter_df.Chromosome)\n",
    "# vc_all_filter_df['Strain'] = length4\n",
    "\n",
    "# vc_dna_tes = vc_all_filter_df[vc_all_filter_df['Class']=='DNATransposon']\n",
    "# vc_retro_tes = vc_all_filter_df[vc_all_filter_df['Class']!='DNATransposon']\n",
    "\n",
    "\n",
    "all_filter_df = pd.concat([N2_all_filter_df, CB_all_filter_df]) #, kimCB_all_filter_df, vc_all_filter_df])\n",
    "\n",
    "all_dna_tes = pd.concat([N2_dna_tes, CB_dna_tes]) #, kimCB_dna_tes, vc_dna_tes])\n",
    "all_retro_tes = pd.concat([N2_retro_tes, CB_retro_tes]) #, kimCB_retro_tes, vc_retro_tes])\n",
    "print('should be 91059 for all 4 genomes:', len(all_filter_df))"
   ]
  },
  {
   "cell_type": "markdown",
   "metadata": {},
   "source": [
    "## 5.3. <a id='toc5_3_'></a>[FX: `make_gff3`](#toc0_)\n",
    "- make gff3 files of the size filtered data"
   ]
  },
  {
   "cell_type": "code",
   "execution_count": 12,
   "id": "9a276f85",
   "metadata": {
    "ExecuteTime": {
     "end_time": "2023-01-14T00:00:53.668548Z",
     "start_time": "2023-01-14T00:00:53.665236Z"
    }
   },
   "outputs": [],
   "source": [
    "def make_gff3(data_list: list, elim_df, filename: str, to_print: bool = False):\n",
    "    \n",
    "    strain = elim_df.at[1, 'Strain']\n",
    "    print(strain)\n",
    "    print(f'intial:', len(data_list))\n",
    "\n",
    "    pop_list = []\n",
    "\n",
    "    for index, row in elim_df.iterrows():\n",
    "\n",
    "        te_start = int(elim_df.at[index, 'Start'])\n",
    "\n",
    "        for i in range(len(data_list)):\n",
    "\n",
    "            if int(data_list[i][3]) == te_start:\n",
    "\n",
    "                pop_list.append(i)\n",
    "\n",
    "    print('number removed:', len(pop_list))\n",
    "\n",
    "    for i in sorted(pop_list, reverse=True):\n",
    "\n",
    "        data_list.pop(i)      \n",
    "\n",
    "    print('final:', len(data_list))\n",
    "    \n",
    "    if to_print == True:\n",
    "        \n",
    "        with open(f\"{filename}.gff3\", \"w\") as f:\n",
    "            \n",
    "            wr = csv.writer(f, delimiter = '\\t')\n",
    "            \n",
    "            wr.writerows(data_list)"
   ]
  },
  {
   "cell_type": "code",
   "execution_count": 13,
   "id": "0662e09f",
   "metadata": {},
   "outputs": [],
   "source": [
    "make_gff3(N2_data_list, N2_elim_df, 'N2_filter', False)\n",
    "# make_gff3(CB_data_list, CB_elim_df, 'CB_filter', False)\n",
    "# make_gff3(kimCB_data_list, kimCB_elim_df, 'kimCB_filter', False)\n",
    "# make_gff3(vc_data_list, vc_elim_df, 'VC2010_filter', False)"
   ]
  },
  {
   "cell_type": "markdown",
   "id": "263bdb39",
   "metadata": {},
   "source": [
    "**N2** \\\n",
    "intial: 18419\\\n",
    "number removed: 27\\\n",
    "final: 18392\\\n",
    "**CB**\\\n",
    "intial: 18113\\\n",
    "number removed: 27\\\n",
    "final: 18086\\\n",
    "**kimCB**\\\n",
    "intial: 31227\\\n",
    "number removed: 57\\\n",
    "final: 31170\\\n",
    "**VC2010**\\\n",
    "intial: 23802\\\n",
    "number removed: 68\\\n",
    "final: 23734\n",
    "\n"
   ]
  },
  {
   "cell_type": "markdown",
   "metadata": {},
   "source": [
    "## 5.4. <a id='toc5_4_'></a>[STATS: percent of genome that is TE](#toc0_)\n",
    "**based on sum of sizes of all TEs **\n",
    "\n",
    "- N2: 14.68%\n",
    "- CB: 14.30%\n",
    "- VC2010: 15.84%\n",
    "- Kim CB: 16.31%\n"
   ]
  },
  {
   "cell_type": "code",
   "execution_count": 14,
   "id": "5af62d0d",
   "metadata": {
    "ExecuteTime": {
     "end_time": "2023-01-14T00:00:58.489374Z",
     "start_time": "2023-01-14T00:00:58.483536Z"
    }
   },
   "outputs": [
    {
     "name": "stdout",
     "output_type": "stream",
     "text": [
      "n2 bp:  14744236\n",
      "n2 frac:  0.14680816341486413\n",
      "\n",
      "cb bp:  14128385\n",
      "cb frac:  0.14296209923841163\n",
      "\n",
      "vc bp:  16168747\n",
      "vc frac:  0.15839557437662422\n",
      "\n",
      "kimcb bp:  16785874\n",
      "kimcb frac:  0.16312666861462582\n"
     ]
    }
   ],
   "source": [
    "n2num = N2_all_filter_df['Size'].sum()\n",
    "n2len = N2_chr_df['end'].sum()\n",
    "print('n2 bp: ', n2num)\n",
    "print('n2 frac: ', n2num / n2len)\n",
    "print()\n",
    "\n",
    "cbnum = CB_all_filter_df['Size'].sum()\n",
    "cblen = CB_chr_df['end'].sum()\n",
    "print('cb bp: ', cbnum)\n",
    "print('cb frac: ', cbnum / cblen)\n",
    "print()\n",
    "\n",
    "vcnum = vc_all_filter_df['Size'].sum()\n",
    "vclen = vc_chr_df['end'].sum()\n",
    "print('vc bp: ', vcnum)\n",
    "print('vc frac: ', vcnum / vclen)\n",
    "print()\n",
    "\n",
    "kimcbnum = kimCB_all_filter_df['Size'].sum()\n",
    "kimcblen = kimcb_chr_df['end'].sum()\n",
    "print('kimcb bp: ', kimcbnum)\n",
    "print('kimcb frac: ', kimcbnum / kimcblen)\n"
   ]
  },
  {
   "cell_type": "markdown",
   "metadata": {},
   "source": [
    "# 6. <a id='toc6_'></a>[GRAPHS](#toc0_)"
   ]
  },
  {
   "cell_type": "markdown",
   "metadata": {},
   "source": [
    "## 6.1. <a id='toc6_1_'></a>[graphing variables](#toc0_)\n",
    "- colors, lists and other variables used throughout all of the graphing functions\n",
    "- change these to whatever! just note that the genome names in the `colors` and `strain_dict` dictionaries need to match the genome names you used to label your strains when creating your dataframes\n",
    "\n",
    "<a id='graphing_variables'></a>"
   ]
  },
  {
   "cell_type": "code",
   "execution_count": 75,
   "id": "8ce62c3d",
   "metadata": {},
   "outputs": [],
   "source": [
    "# N2 #86abb1\n",
    "# CB #df7871\n",
    "# KimCB #b18eaa\n",
    "# VC2010 #2a7f62\n",
    "\n",
    "colors = {'N2':'#86abb1','CB':'#df7871', 'kimCB':'#b18eaa', 'VC2010':'#2a7f62'}\n",
    "# strain_dict = {'N2': [N2_dna_tes, N2_retro_tes], 'CB':[CB_dna_tes, CB_retro_tes], 'VC2010':[vc_dna_tes, vc_retro_tes], 'kimCB':[kimCB_dna_tes, kimCB_retro_tes]}\n",
    "dna_order = ['Zator', 'hAT', 'CMC', 'Tc1-Mariner', 'Sola', 'Novosib', 'Helitron', 'MITE']\n",
    "retro_order = ['Gypsy', 'Copia', 'LINE', 'SINE', 'ERV']\n",
    "te_fam_list = ['CMC', 'hAT', 'Zator', 'Tc1-Mariner', 'Sola', 'Gypsy', 'Copia', 'Novosib', 'Helitron', 'MITE']\n",
    "\n",
    "\n",
    "\n"
   ]
  },
  {
   "cell_type": "markdown",
   "metadata": {},
   "source": [
    "## 6.2. <a id='toc6_2_'></a>[FX: `one_x_axis`](#toc0_)\n",
    "- creates a graph with TEs (either all, only DNA or only Retro) from one genome and all chromosomes on one x-axis\n",
    "- x-axis: relative start position\n",
    "- y-axis: count"
   ]
  },
  {
   "cell_type": "code",
   "execution_count": 77,
   "id": "3b6d2d52",
   "metadata": {
    "ExecuteTime": {
     "end_time": "2023-01-14T00:01:09.595901Z",
     "start_time": "2023-01-14T00:01:08.832939Z"
    },
    "scrolled": true
   },
   "outputs": [],
   "source": [
    "def one_x_axis(dataframe, te_type: str, title: str, ylim: int, filestr: str, to_save: bool = False):\n",
    "    \"\"\" \n",
    "    dataframe: TE dataframe\n",
    "    te_type: str, one of either 'DNA', 'Retro' or 'all'\n",
    "    title: str, title that will by output on the top of the graph\n",
    "    ylim: int, limit of the y-axis\n",
    "    filestr: str, will be input into {filestr}_global_te_dist_{ylim}yax.pdf to save the graph with a unique name\n",
    "    to_save: bool, whether or not to save the graph as a pdf (if False, graph will only be output into the notebook)\n",
    "    \"\"\"\n",
    "    \n",
    "    sns.set_style('white')\n",
    "    fig, ax = plt.subplots(figsize=(12, 8))\n",
    "\n",
    "    if te_type == 'DNA':\n",
    "        ax = sns.histplot(dataframe[dataframe['Class'] == 'DNATransposon'], \n",
    "                        x = \"Relative Start Position\", \n",
    "                        binwidth=.01, \n",
    "                        stat='count', \n",
    "                        edgecolor = 'white', \n",
    "                        linewidth = 0, \n",
    "                        color = '#86abb1',\n",
    "                        alpha = 1)\n",
    "    elif te_type == 'Retro':\n",
    "        ax = sns.histplot(dataframe[dataframe['Class'] == 'DNATransposon'], \n",
    "                        x = \"Relative Start Position\", \n",
    "                        binwidth=.01, \n",
    "                        stat='count', \n",
    "                        edgecolor = 'white', \n",
    "                        linewidth = 0, \n",
    "                        color = '#86abb1',\n",
    "                        alpha = 1)\n",
    "    elif te_type == 'all':\n",
    "        ax = sns.histplot(dataframe, \n",
    "                        x = \"Relative Start Position\", \n",
    "                        binwidth=.01, \n",
    "                        stat='count', \n",
    "                        edgecolor = 'white', \n",
    "                        linewidth = 0, \n",
    "                        color = '#86abb1',\n",
    "                        alpha = 1)\n",
    "\n",
    "    sns.set(font_scale=1.5)\n",
    "    ax.set_ylabel('Count', fontsize=18)\n",
    "    ax.set_xlabel('Relative Start Position', fontsize=18)\n",
    "    plt.tick_params(axis='both', which='major', labelsize=16)\n",
    "    ax.set(ylim = (0, ylim))\n",
    "    plt.title(title)\n",
    "    print(fig, ax)\n",
    "    \n",
    "    if to_save == True:\n",
    "        \n",
    "        plt.savefig(f'{filestr}_global_te_dist_{ylim}yax.pdf', dpi=300, facecolor = 'w', edgecolor = 'w', format='pdf', bbox_inches='tight')\n",
    "    \n"
   ]
  },
  {
   "cell_type": "code",
   "execution_count": 42,
   "id": "f587826e",
   "metadata": {},
   "outputs": [],
   "source": [
    "# one_x_axis(CB_all_filter_df, 'Retro', 'CB retro', 30, 'CB_retro', False)"
   ]
  },
  {
   "cell_type": "markdown",
   "metadata": {},
   "source": [
    "## 6.3. <a id='toc6_3_'></a>[ALL TE HISTOGRAMS](#toc0_)"
   ]
  },
  {
   "cell_type": "markdown",
   "metadata": {},
   "source": [
    "### 6.3.1. <a id='toc6_3_1_'></a>[FX: `make_ultimate_hist_onegen` (DNA and retro for N2, CB, VC2010 or KimCB)](#toc0_)\n",
    "- creates a grid of histograms (using FacetGrid) of DNA and Retro TEs on one genome\n",
    "- columns: chromosomes, rows: DNA and Retro\n",
    "- x-axis: TE start position (can easily be changed within the function to graph by Relative Start Position if needed)\n",
    "- y-axis: Count"
   ]
  },
  {
   "cell_type": "code",
   "execution_count": 46,
   "id": "9185c8e6",
   "metadata": {
    "ExecuteTime": {
     "end_time": "2022-08-04T16:25:12.671256Z",
     "start_time": "2022-08-04T16:25:02.950869Z"
    }
   },
   "outputs": [],
   "source": [
    "def make_ultimate_hist_onegen(dataframe, genome: str, to_save: bool = False):\n",
    "    \"\"\" \n",
    "    dataframe: TE dataframe\n",
    "    genome: str, name of the genome that will be inserted into the title\n",
    "    to_save: bool, whether or not to save the graph as a pdf (if False, graph will only be output into the notebook)\n",
    "\n",
    "    \"\"\"\n",
    "\n",
    "    sns.set(font_scale=1)\n",
    "    sns.set_style('white')\n",
    "\n",
    "    color = colors[genome]\n",
    "\n",
    "    ultimate_hist = sns.FacetGrid(dataframe, col=\"Chromosome\", row=\"Class\", sharex='col', sharey='row', margin_titles=True)# hue_kws={'color':['mediumblue', 'deepskyblue','mediumblue', 'deepskyblue','mediumblue', 'deepskyblue']})\n",
    "    ultimate_hist.map(sns.histplot, \"Start\", binwidth=100000, stat='count', color = color, edgecolor = color)\n",
    "    ultimate_hist.fig.subplots_adjust(top=.85) # move subplots down so that title doesn't overlap with subtitles\n",
    "    ultimate_hist.fig.suptitle(f'Distribution of DNA TEs and Retro-TEs on the {genome} genome')\n",
    "    # ultimate_hist.set(ylim = (0, 250))\n",
    "\n",
    "    if to_save == True: \n",
    "        \n",
    "        plt.savefig(f'TEUlt_{genome}_ultimate_hist_100kb_LTRRet_filter.pdf', dpi=300, facecolor = 'w', edgecolor = 'w', format='pdf', transparent=True)      \n"
   ]
  },
  {
   "cell_type": "code",
   "execution_count": 48,
   "id": "8141719c",
   "metadata": {},
   "outputs": [],
   "source": [
    "# make_ultimate_hist_onegen(N2_all_filter_df, 'N2', to_save = False)        "
   ]
  },
  {
   "cell_type": "markdown",
   "metadata": {},
   "source": [
    "### 6.3.2. <a id='toc6_3_2_'></a>[FX: `make_ultimate_hist_allgen` (all genomes for DNA or retro)](#toc0_)\n",
    "- creates a grid of histograms (using FacetGrid) of TEs on all genomes in the all_filter_df dataframe and its subsets\n",
    "- columns: chromosomes, rows: genome\n",
    "- x-axis: TE start position, this can easily be changed within the function to graph by Relative Start Position if needed, the x-axis ticks are manually input as a list within the function and can be changed based on the length of the genomes you are analyzing\n",
    "- y-axis: Count"
   ]
  },
  {
   "cell_type": "code",
   "execution_count": 51,
   "id": "e78a0662",
   "metadata": {
    "ExecuteTime": {
     "end_time": "2022-11-16T21:17:08.752635Z",
     "start_time": "2022-11-16T21:17:02.325990Z"
    }
   },
   "outputs": [],
   "source": [
    "def make_ultimate_hist_allgen(dataframe, title: str, filestr: str, binsize: int, to_save: bool = False):\n",
    "    \"\"\" \n",
    "    dataframe: TE dataframe\n",
    "    title: str, name of the type of TEs (ex. DNA, Retro or All) that will be inserted into the title\n",
    "    filestr: str, will be input into TEUlt_{filestr}_allgenomes.pdf to save the graph with a unique name\n",
    "    binsize: int, size of the histogram bins \n",
    "    to_save: bool, whether or not to save the graph as a pdf (if False, graph will only be output into the notebook)\n",
    "\n",
    "    \"\"\"\n",
    "\n",
    "    sns.set(font_scale=1)\n",
    "    sns.set_style('white')\n",
    "    \n",
    "    ultimate_hist = sns.FacetGrid(dataframe, col=\"Chromosome\", row=\"Strain\", sharex='col', sharey=True, margin_titles=True, hue='Strain', palette=colors)# hue_kws={'color':['mediumblue', 'deepskyblue','mediumblue', 'deepskyblue','mediumblue', 'deepskyblue']})\n",
    "\n",
    "    ultimate_hist.map(sns.histplot, \"Start\", binwidth=binsize, stat='count', edgecolor = 'white', linewidth = 0, alpha=1)\n",
    "\n",
    "    ultimate_hist.fig.subplots_adjust(top=.85) # move subplots down so that title doesn't overlap with subtitles\n",
    "\n",
    "    ultimate_hist.fig.suptitle(f'Distribution of {title} TEs by genome')\n",
    "\n",
    "    ultimate_hist.set(xticks=[0, 5000000, 10000000, 15000000, 20000000])\n",
    "\n",
    "    for ax in ultimate_hist.axes.flatten():\n",
    "        ax.tick_params(labelbottom=True, bottom=True, left=True, direction='out', length=6, width=2)\n",
    "        \n",
    "    if to_save == True:\n",
    "\n",
    "        plt.savefig(f'TEUlt_{filestr}_allgenomes.pdf', dpi=300, facecolor = 'w', edgecolor = 'w', format='pdf')"
   ]
  },
  {
   "cell_type": "code",
   "execution_count": 53,
   "id": "2ed77989",
   "metadata": {},
   "outputs": [],
   "source": [
    "# make_ultimate_hist_allgen(all_dna_tes, 'DNA', 'dna_500kb', 500000, to_save = False)"
   ]
  },
  {
   "cell_type": "markdown",
   "metadata": {},
   "source": [
    "## 6.4. <a id='toc6_4_'></a>[SPECIFIC TE FAMILY HISTOGRAMS](#toc0_)\n",
    "### 6.4.1. <a id='toc6_4_1_'></a>[FX: `make_spec_family_ult_hist`](#toc0_)\n",
    "- plot distribution of a specific TE family for one genome\n",
    "- x-axis: Start Position (can be changed to Relative Start Position within the function)\n",
    "- y-axis: Count"
   ]
  },
  {
   "cell_type": "code",
   "execution_count": 54,
   "id": "61ce921d",
   "metadata": {
    "ExecuteTime": {
     "end_time": "2022-11-28T22:05:52.696221Z",
     "start_time": "2022-11-28T22:05:52.690174Z"
    }
   },
   "outputs": [],
   "source": [
    "def make_spec_family_ult_hist(all_df, genome: str, spec_family: str, binsize: int, to_save: bool = False):\n",
    "    \"\"\" \n",
    "    all_df: dataframe with all TEs from all genomes\n",
    "    genome: str, name of the genome that will be inserted into the title\n",
    "    spec_family: str, name of the specific TE family that will be inserted into the title \n",
    "    binsize: int, size of the histogram bins \n",
    "    to_save: bool, whether or not to save the graph as a pdf (if False, graph will only be output into the notebook)\n",
    "    \"\"\"\n",
    "    \n",
    "    sns.set_style('white')\n",
    "    \n",
    "    color = colors[genome]\n",
    "    \n",
    "    spec_family_ultimate_hist = sns.FacetGrid(all_df[all_df['Family'] == spec_family], col=\"Chromosome\", sharex='col', sharey='row', margin_titles=True)# hue_kws={'color':['mediumblue', 'deepskyblue','mediumblue', 'deepskyblue','mediumblue', 'deepskyblue']})\n",
    "    spec_family_ultimate_hist.map(sns.histplot, \"Start\", binwidth=binsize, stat='count', color = color, edgecolor= color)\n",
    "    spec_family_ultimate_hist.fig.subplots_adjust(top=.8) # move subplots down so that title doesn't overlap with subtitles\n",
    "    spec_family_ultimate_hist.fig.suptitle(f'Distribution of {spec_family} TEs on the {genome} genome')\n",
    "    \n",
    "    binfilestr = str(int(binsize/1000)) +'kb'\n",
    "    \n",
    "    if to_save == True:\n",
    "        \n",
    "        plt.savefig(f'TEUlt_{genome}_{spec_family}_{binfilestr}hist.pdf', dpi=300, facecolor = 'w', edgecolor = 'w', format='pdf')\n",
    "        \n",
    "    return spec_family_ultimate_hist"
   ]
  },
  {
   "cell_type": "code",
   "execution_count": 60,
   "id": "7b7400f4",
   "metadata": {
    "ExecuteTime": {
     "end_time": "2022-07-11T20:50:08.140876Z",
     "start_time": "2022-07-11T20:50:08.138382Z"
    }
   },
   "outputs": [],
   "source": [
    "# make_spec_family_ult_hist(N2_all_df, 'N2', 'CMC', 100000, False)"
   ]
  },
  {
   "cell_type": "markdown",
   "metadata": {},
   "source": [
    "below: runs the `make_spec_family_ult_hist` function on all TE families in the `te_fam_list` defined in the [graphing variables](#61-graphing-variables) cell"
   ]
  },
  {
   "cell_type": "code",
   "execution_count": 59,
   "id": "f6180656",
   "metadata": {
    "ExecuteTime": {
     "end_time": "2022-07-11T20:50:19.496209Z",
     "start_time": "2022-07-11T20:50:08.707742Z"
    }
   },
   "outputs": [],
   "source": [
    "# genome = 'N2'\n",
    "# color = '#4c72b0'\n",
    "# df = N2_all_filter_df\n",
    "\n",
    "# for i in range(len(te_fam_list)):\n",
    "#     spec_family = te_fam_list[i]\n",
    "#     make_spec_family_ult_hist(df, genome, spec_family, 100000, False)\n"
   ]
  },
  {
   "cell_type": "markdown",
   "metadata": {},
   "source": [
    "### 6.4.2. <a id='toc6_4_2_'></a>[FX: `make_spec_family_ult_hist_allgenomes`](#toc0_)\n",
    "- plot distribution of a specific transposon family by chromosome for both all genomes\n",
    "- columns: chromosomes, rows: genome\n",
    "- x-axis: relative start position\n",
    "- y-axis: count"
   ]
  },
  {
   "cell_type": "code",
   "execution_count": 66,
   "id": "e1be5ac7",
   "metadata": {
    "ExecuteTime": {
     "end_time": "2022-08-08T05:42:09.645365Z",
     "start_time": "2022-08-08T05:42:09.638190Z"
    }
   },
   "outputs": [],
   "source": [
    "def make_spec_family_ult_hist_allgenomes(all_df, spec_family: str, binsize: int, to_save: bool = False):\n",
    "    \"\"\" \n",
    "    all_df: dataframe with all TEs from all genomes\n",
    "    spec_family: str, name of the specific TE family that will be inserted into the title \n",
    "    binsize: int, size of the histogram bins \n",
    "    to_save: bool, whether or not to save the graph as a pdf (if False, graph will only be output into the notebook)\n",
    "    \"\"\"\n",
    "\n",
    "    sns.set_style('white')\n",
    "\n",
    "    spec_family_ultimate_hist_allgen = sns.FacetGrid(all_df[all_df['Family'] == spec_family], \n",
    "                                                      col=\"Chromosome\", \n",
    "                                                      row = 'Strain', \n",
    "                                                      sharex='col', \n",
    "                                                      sharey=True, \n",
    "                                                      margin_titles=True, \n",
    "                                                      hue = 'Strain', \n",
    "                                                      palette = colors)  # hue_kws={'color':['mediumblue', 'deepskyblue','mediumblue', 'deepskyblue','mediumblue', 'deepskyblue']})\n",
    "    \n",
    "    spec_family_ultimate_hist_allgen.map(sns.histplot, \"Relative Start Position\", binwidth=binsize, stat='count', edgecolor = 'white', linewidth = 0, alpha=1)\n",
    "    spec_family_ultimate_hist_allgen.fig.subplots_adjust(top=.8) # move subplots down so that title doesn't overlap with subtitles\n",
    "    spec_family_ultimate_hist_allgen.fig.suptitle(f'Distributions of {spec_family} TEs')\n",
    "    \n",
    "    for ax in spec_family_ultimate_hist_allgen.axes.flatten():\n",
    "        ax.tick_params(labelbottom=True)\n",
    "    \n",
    "    binfilestr = str(binsize)[2:]\n",
    "    \n",
    "    if to_save == True:\n",
    "        \n",
    "        plt.savefig(f'{spec_family}_{binfilestr}_allgenomes.pdf', dpi=300, facecolor = 'w', edgecolor = 'w', format='pdf')\n",
    "    \n",
    "    return spec_family_ultimate_hist_allgen\n",
    "  "
   ]
  },
  {
   "cell_type": "code",
   "execution_count": 68,
   "id": "27ebee54",
   "metadata": {
    "ExecuteTime": {
     "end_time": "2022-08-08T05:48:09.385909Z",
     "start_time": "2022-08-08T05:48:04.001495Z"
    },
    "scrolled": false
   },
   "outputs": [],
   "source": [
    "# make_spec_family_ult_hist_allgenomes(all_dna_tes, 'Zator', .01, False)"
   ]
  },
  {
   "cell_type": "markdown",
   "metadata": {},
   "source": [
    "below: runs the `make_spec_family_ult_hist_allgenomes` function on all TE families in the `dna_te_fam_list` or `retro_te_fam_list`"
   ]
  },
  {
   "cell_type": "code",
   "execution_count": 69,
   "id": "7a393368",
   "metadata": {
    "ExecuteTime": {
     "end_time": "2022-07-28T23:05:29.582231Z",
     "start_time": "2022-07-28T23:05:20.196737Z"
    },
    "scrolled": false
   },
   "outputs": [],
   "source": [
    "# dna_te_fam_list = ['CMC', 'hAT', 'Zator', 'Tc1-Mariner', 'Sola', 'Novosib']#, 'Helitron']#, 'MITEs']\n",
    "# retro_te_fam_list = ['Gypsy', 'Copia']\n",
    "\n",
    "# df = all_dna_tes\n",
    "# te_type = 'dna'\n",
    "# data_list = dna_te_fam_list \n",
    "\n",
    "# for i in range(len(data_list)):\n",
    "#     spec_family = data_list[i]\n",
    "#     make_spec_family_ult_hist_allgenomes(df, spec_family, .01, False)\n"
   ]
  },
  {
   "cell_type": "markdown",
   "metadata": {},
   "source": [
    "### 6.4.3. <a id='toc6_4_3_'></a>[FX: `track_down_hist_peaks`](#toc0_)\n",
    "- basic function to look at histogram peaks in the N2 and CB specific family data"
   ]
  },
  {
   "cell_type": "code",
   "execution_count": 91,
   "id": "19512a58",
   "metadata": {
    "ExecuteTime": {
     "end_time": "2022-08-02T23:31:39.061788Z",
     "start_time": "2022-08-02T23:31:39.052342Z"
    }
   },
   "outputs": [],
   "source": [
    "def track_down_hist_peaks(N2_df, CB_df, spec_family, chromosome):\n",
    "    sns.set_style('white')\n",
    "    \n",
    "    N2data = N2_df.loc[(N2_df['Family'] == spec_family) & (N2_df['Chromosome'] == chromosome)]['Start'].tolist()\n",
    "    CBdata = CB_df.loc[(CB_df['Family'] == spec_family) & (CB_df['Chromosome'] == chromosome)]['Start'].tolist()\n",
    "\n",
    "    \n",
    "    values, bins, patches = plt.hist(N2data, bins=200, color = 'black')\n",
    "    plt.title('N2')\n",
    "    plt.show()\n",
    "    \n",
    "    values1, bins1, patches1 = plt.hist(CBdata, bins=200, color = 'black')\n",
    "    plt.title('CB')\n",
    "    plt.show()\n",
    "\n",
    "    return [values, bins, patches, values1, bins1, patches1]"
   ]
  },
  {
   "cell_type": "code",
   "execution_count": 92,
   "id": "7b42b2f6",
   "metadata": {
    "ExecuteTime": {
     "end_time": "2022-08-03T00:10:39.951109Z",
     "start_time": "2022-08-03T00:10:39.325712Z"
    }
   },
   "outputs": [
    {
     "data": {
      "image/png": "[encoded data removed]",
      "text/plain": [
       "<Figure size 400x400 with 1 Axes>"
      ]
     },
     "metadata": {
      "image/png": {
       "height": 400,
       "width": 400
      }
     },
     "output_type": "display_data"
    },
    {
     "data": {
      "image/png": "[encoded data removed]",
      "text/plain": [
       "<Figure size 400x400 with 1 Axes>"
      ]
     },
     "metadata": {
      "image/png": {
       "height": 400,
       "width": 400
      }
     },
     "output_type": "display_data"
    },
    {
     "name": "stdout",
     "output_type": "stream",
     "text": [
      "n2 max count 64.0\n",
      "n2 max bin [6581870.875, 6669156.42]\n",
      "\n",
      "cb max count 15.0\n",
      "cb max bin [2997721.4499999997, 3083021.12]\n"
     ]
    }
   ],
   "source": [
    "spec_family = 'hAT'\n",
    "chromosome = 'Chr IV' \n",
    "\n",
    "peak_tracker_list = track_down_hist_peaks(N2_all_df, CB_all_df, spec_family, chromosome)\n",
    "\n",
    "n2_values = peak_tracker_list[0].tolist()\n",
    "n2_bins = peak_tracker_list[1].tolist()\n",
    "\n",
    "n2_max_value = (max(n2_values))\n",
    "n2_max_value_index = (n2_values.index(n2_max_value))\n",
    "\n",
    "n2_max_value_bin = n2_bins[n2_max_value_index-1:n2_max_value_index+1]\n",
    "print('n2 max count', n2_max_value)\n",
    "print('n2 max bin', n2_max_value_bin)\n",
    "\n",
    "cb_values = peak_tracker_list[3].tolist()\n",
    "cb_bins = peak_tracker_list[4].tolist()\n",
    "\n",
    "cb_max_value = (max(cb_values))\n",
    "cb_max_value_index = (cb_values.index(cb_max_value))\n",
    "\n",
    "cb_max_value_bin = cb_bins[cb_max_value_index-1:cb_max_value_index+1]\n",
    "print()\n",
    "print('cb max count', cb_max_value)\n",
    "print('cb max bin', cb_max_value_bin)\n"
   ]
  },
  {
   "cell_type": "markdown",
   "metadata": {},
   "source": [
    "### 6.4.4. <a id='toc6_4_4_'></a>[FX: `make_every_fam_grid`](#toc0_)\n",
    "- make plot of every single TE family distribution by chr in a huge grid\n",
    "- columns: chromosome, rows: TE family\n",
    "- x-axis: relative start position\n",
    "- y-axis: count\n",
    "- this is not a great looking graph, but can be helpful for getting an overview of the data"
   ]
  },
  {
   "cell_type": "code",
   "execution_count": 74,
   "id": "de8c0e8d",
   "metadata": {
    "ExecuteTime": {
     "end_time": "2022-07-26T17:56:47.410493Z",
     "start_time": "2022-07-26T17:56:07.621892Z"
    },
    "code_folding": []
   },
   "outputs": [],
   "source": [
    "#N2 86abb1\n",
    "#CB b0948f\n",
    "# ,facet_kws=dict(sharex='col')\n",
    "def make_every_fam_grid(df, genome: str, numbins: int, sharey: bool = False, to_save: bool = False):\n",
    "    \"\"\"  \n",
    "    df: TE dataframe\n",
    "    genome: str, name of the genome that will be inserted into the title\n",
    "    numbins: int, number of equally sized bins the data will be divided into\n",
    "    sharey: bool, whether or not the y-axis should be shared each individual histogram in the entire grid\n",
    "    to_save: bool, whether or not to save the graph as a pdf (if False, graph will only be output into the notebook)\n",
    "\n",
    "    \"\"\"\n",
    "\n",
    "    color = colors[genome]\n",
    "    \n",
    "    if sharey:\n",
    "        shareystr = 'nosharey'\n",
    "    else: \n",
    "        shareystr = 'sharey'\n",
    "        \n",
    "    g = sns.displot(data=df, x=\"Relative Start Position\", col=\"Chromosome\", row = 'Family', bins = numbins, kind=\"hist\", color = color, edgecolor = color, facet_kws=dict(sharey=sharey))\n",
    "    \n",
    "    g.set_axis_labels(\"Relative Start Position\", \"Count\")\n",
    "    \n",
    "    if to_save == True:  \n",
    "        plt.savefig(f'{genome}_ultimate_byfamandchr_hist_{numbins}_LTRRet_{shareystr}.pdf', dpi=300, facecolor = 'w', edgecolor = 'w', format='pdf')"
   ]
  },
  {
   "cell_type": "code",
   "execution_count": 73,
   "id": "e29ee811",
   "metadata": {
    "scrolled": false
   },
   "outputs": [],
   "source": [
    "# make_every_fam_grid(N2_all_filter_df, 'N2', 100, sharey = False, to_save = False)"
   ]
  },
  {
   "cell_type": "markdown",
   "metadata": {},
   "source": [
    "## 6.5. <a id='toc6_5_'></a>[TE COUNTS BAR GRAPH](#toc0_)\n",
    "### 6.5.1. <a id='toc6_5_1_'></a>[FX: `make_te_counts_perfam`](#toc0_)\n",
    "- creates a bar graph of the number of DNA and Retro elements (DNA in one graph, Retro in the second) in a given genome"
   ]
  },
  {
   "cell_type": "code",
   "execution_count": 78,
   "id": "dde0a270",
   "metadata": {
    "ExecuteTime": {
     "end_time": "2022-11-28T22:06:20.030793Z",
     "start_time": "2022-11-28T22:06:20.023910Z"
    }
   },
   "outputs": [],
   "source": [
    "def make_te_counts_perfam(strain: str, dna_tes, retro_tes, to_save: bool = False):\n",
    "    \"\"\" \n",
    "    strain: str, name of the strain that will be used in the graph title and file name\n",
    "    dna_tes: dna TEs dataframe\n",
    "    retro_tes: retro TEs dataframe \n",
    "    to_save: bool, whether or not to save the graph as a pdf (if False, graph will only be output into the notebook)\n",
    "    \"\"\"\n",
    "    \n",
    "    sns.set(style=\"white\")\n",
    "        \n",
    "    sns.set_palette(sns.color_palette(dna_color_list))\n",
    "\n",
    "    fig, ax = plt.subplots(figsize=(12, 8))\n",
    "    ax = sns.countplot(data = dna_tes, x = 'Family', order = dna_order)\n",
    "    ax.set_ylabel(\"Count\")\n",
    "    for i in ax.containers:\n",
    "        ax.bar_label(i,)\n",
    "    plt.title(f'{strain} DNA TE counts per family')                                   \n",
    "\n",
    "    if to_save == True:\n",
    "    \n",
    "        plt.savefig(f'{strain}_DNA_counts_all_LTRRet.pdf', dpi=300, facecolor = 'w', edgecolor = 'w', format='pdf')\n",
    "    \n",
    "    sns.set_palette(sns.color_palette(retro_color_list))\n",
    "\n",
    "    fig, ax2 = plt.subplots(figsize=(12, 8))\n",
    "    ax2 = sns.countplot(data = retro_tes, x = 'Family',  order = retro_order)\n",
    "    ax2.set_ylabel(\"Count\")\n",
    "    for i in ax2.containers:\n",
    "        ax2.bar_label(i,)\n",
    "    plt.title(f'{strain} Retro-TE counts per family')                                   \n",
    "    \n",
    "    if to_save == True:\n",
    "        \n",
    "        plt.savefig(f'TEUlt_{strain}_retro_counts_all_LTRRet.pdf', dpi=300, facecolor = 'w', edgecolor = 'w', format='pdf')"
   ]
  },
  {
   "cell_type": "code",
   "execution_count": 83,
   "metadata": {},
   "outputs": [],
   "source": [
    "# make_te_counts_perfam('N2', N2_dna_tes, N2_retro_tes, False)"
   ]
  },
  {
   "cell_type": "markdown",
   "metadata": {},
   "source": [
    "below: runs the `make_te_counts_perfam` function on all genomes in the `strain_dict` list defined in the [graphing variables](#61-graphing-variables) cell"
   ]
  },
  {
   "cell_type": "code",
   "execution_count": 76,
   "id": "852cd5eb",
   "metadata": {},
   "outputs": [],
   "source": [
    "# for key, value in strain_dict.items():\n",
    "#     dna_df = value[0]\n",
    "#     retro_df = value[1]\n",
    "#     make_te_counts_perfam(key, dna_df, retro_df)"
   ]
  },
  {
   "cell_type": "markdown",
   "metadata": {},
   "source": [
    "### 6.5.2. <a id='toc6_5_2_'></a>[FX: `make_class_counts_allgenomes`](#toc0_)\n",
    "- creates a paired bar graph style plot of the counts of either DNA or Retro elements for all genomes "
   ]
  },
  {
   "cell_type": "code",
   "execution_count": 86,
   "id": "7800e534",
   "metadata": {},
   "outputs": [],
   "source": [
    "def make_class_counts_allgenomes(te_class: str, to_save: bool = False):\n",
    "    \"\"\" \n",
    "    te_class: str, one of either 'retro' or 'dna'\n",
    "    to_save: bool, whether or not to save the graph as a pdf (if False, graph will only be output into the notebook)\n",
    "    \"\"\"\n",
    "\n",
    "    if te_class == 'retro':\n",
    "        df = all_retro_tes\n",
    "        title = 'Retro-'\n",
    "        filestr = 'retro'\n",
    "        order = retro_order\n",
    "        \n",
    "    elif te_class == 'dna':\n",
    "        df = all_dna_tes\n",
    "        title = 'DNA '\n",
    "        filestr = 'dna'\n",
    "        order = dna_order\n",
    "    \n",
    "    sns.set(style=\"white\")\n",
    "    \n",
    "    fig, ax = plt.subplots(figsize=(12, 8))\n",
    "    ax = sns.countplot(data = df, x = 'Family', order = order, hue='Strain', palette=colors)\n",
    "    ax.set_ylabel(\"Count\")\n",
    "    for i in ax.containers:\n",
    "        ax.bar_label(i, fontsize=7, label_type='edge')\n",
    "    plt.title(f'{title}TE counts')   \n",
    "    \n",
    "    if to_save == True: \n",
    "        plt.savefig(f'{filestr}counts_allgenomes.pdf', dpi=300, facecolor = 'w', edgecolor = 'w', format='pdf')\n",
    "    "
   ]
  },
  {
   "cell_type": "code",
   "execution_count": 88,
   "id": "a54f0b94",
   "metadata": {},
   "outputs": [],
   "source": [
    "# make_class_counts_allgenomes('dna', False)"
   ]
  },
  {
   "cell_type": "markdown",
   "metadata": {},
   "source": [
    "## 6.6. <a id='toc6_6_'></a>[TE SIZES GRAPHS](#toc0_)\n",
    "### 6.6.1. <a id='toc6_6_1_'></a>[boxplot of all sizes on one plot](#toc0_)\n",
    "- this is not a great graph but can be helpful for getting an overview of the data"
   ]
  },
  {
   "cell_type": "code",
   "execution_count": 2,
   "id": "d1bd8d8a",
   "metadata": {
    "ExecuteTime": {
     "end_time": "2022-08-07T07:01:15.369070Z",
     "start_time": "2022-08-07T07:01:15.088780Z"
    }
   },
   "outputs": [],
   "source": [
    "# sns.boxplot(x = 'Family', y = 'Size', data=N2_dna_tes)"
   ]
  },
  {
   "cell_type": "markdown",
   "metadata": {},
   "source": [
    "### 6.6.2. <a id='toc6_6_2_'></a>[FX: `broken_axis_box` ](#toc0_)\n",
    "- creates a broken axis boxplot of the TE sizes in either the DNA or Retro class\n",
    "- used these links to make this fx:\n",
    "    - https://gist.github.com/pfandzelter/0ae861f0dee1fb4fd1d11344e3f85c9e \n",
    "    - https://matplotlib.org/2.0.2/examples/pylab_examples/broken_axis.html"
   ]
  },
  {
   "cell_type": "code",
   "execution_count": 96,
   "id": "f8afb89c",
   "metadata": {
    "ExecuteTime": {
     "end_time": "2022-08-07T06:59:47.814814Z",
     "start_time": "2022-08-07T06:59:47.130610Z"
    }
   },
   "outputs": [],
   "source": [
    "dna_order = ['Zator', 'hAT', 'CMC', 'Tc1-Mariner', 'Sola', 'Novosib', 'Helitron', 'MITE']\n",
    "retro_order = ['Gypsy', 'Copia', 'LINE', 'SINE', 'ERV']\n",
    "\n",
    "def broken_axis_box(data, genome: str, break_num: int, end_num: int, title: str, filename: str, order: list, showmeans: bool, to_save: bool = False):\n",
    "    \"\"\" \n",
    "    data: TE dataframe\n",
    "    genome: str, used in the title and filename\n",
    "    break_num: int, number to break the axis at\n",
    "    end_num: int, number to cap the y-axis at (can think of this as the y-limit)\n",
    "    title: str, something like 'DNA ' or 'Retro' to indicate what class of TEs are being plotted\n",
    "    filename: str, something like 'DNA ' or 'Retro' to indicate what class of TEs are being plotted\n",
    "    order: list, what order to plot the families along the x-axis\n",
    "    showmeans: bool, whether or not to include a red dot at the mean TE size of each family\n",
    "    to_save: bool, whether or not to save the graph as a pdf (if False, graph will only be output into the notebook)\n",
    "    \"\"\"\n",
    "\n",
    "    sns.set(style=\"whitegrid\")\n",
    "    pal = sns.color_palette('colorblind')\n",
    "\n",
    "    f, (ax1, ax2) = plt.subplots(ncols=1, nrows=2, sharex=True, figsize = (12, 8))\n",
    "    flierprops = dict(marker='o', fillstyle = 'none')\n",
    "    meanpointprops = dict(marker='D', markerfacecolor='red', markeredgecolor = 'black')\n",
    "\n",
    "\n",
    "    ax1 = sns.boxplot(x = 'Family', y = 'Size', data=data, palette=pal, ax=ax1, order = order, fliersize = 5, flierprops = flierprops, showmeans = showmeans, meanprops=meanpointprops)\n",
    "    ax2 = sns.boxplot(x = 'Family', y = 'Size', data=data, palette=pal, ax=ax2, order = order, fliersize = 5, flierprops = flierprops, showmeans = showmeans, meanprops=meanpointprops)\n",
    "\n",
    "    ax1.set_ylim(break_num, end_num) # set y limits for both, if you want the scale to stay the same you have to have the same y range for both plots/axes\n",
    "    ax2.set_ylim(0, break_num)\n",
    "\n",
    "    ax1.get_xaxis().set_visible(False) # get rid of x axis for upper plot (it shares with the bottom one)\n",
    "\n",
    "    ax1.set_ylabel(\"\") # get rid of y labels for both\n",
    "    ax2.set_ylabel(\"\")\n",
    "    f.text(0.05, 0.55, \"Size of TE (bp)\", va=\"center\", rotation=\"vertical\") # make ur own y label (diy🙂)\n",
    "\n",
    "    # ax1.get_legend().remove() # get rid of automatic legends\n",
    "    # ax2.get_legend().remove()\n",
    "    # ax2.legend(loc=(1.025, 0.5), title=\"Design\") # make ur own legend\n",
    "\n",
    "\n",
    "    ax1.xaxis.tick_top()\n",
    "    ax2.xaxis.tick_bottom()\n",
    "\n",
    "    f.subplots_adjust(left=0.15, right=0.85, bottom=0.15, top=0.85, hspace=0.1)\n",
    "\n",
    "    d = .01  # how big to make the diagonal lines in axes coordinates\n",
    "    # arguments to pass to plot, just so we don't keep repeating them\n",
    "    kwargs = dict(transform=ax1.transAxes, color=\"k\", clip_on=False)\n",
    "    ax1.plot((-d, +d), (-d, +d), **kwargs)        # top-left diagonal\n",
    "    ax1.plot((1 - d, 1 + d), (-d, +d), **kwargs)  # top-right diagonal\n",
    "\n",
    "    kwargs.update(transform=ax2.transAxes)  # switch to the bottom axes\n",
    "    ax2.plot((-d, +d), (1 - d, 1 + d), **kwargs)  # bottom-left diagonal\n",
    "    ax2.plot((1 - d, 1 + d), (1 - d, 1 + d), **kwargs)  # bottom-right diagonal\n",
    "\n",
    "    ax1.title.set_text(f'Size Distributions of {genome} {title}TEs')\n",
    "    # plt.legend()\n",
    "\n",
    "    if to_save == True:\n",
    "        plt.savefig(f'TEUlt_{genome}_{filename}_size_dist_broken_LTRRet.png', dpi=300, facecolor = 'w', edgecolor = 'w', format='png')"
   ]
  },
  {
   "cell_type": "code",
   "execution_count": 92,
   "metadata": {},
   "outputs": [],
   "source": [
    "# broken_axis_box(N2_dna_tes, 'N2', 10000, 90000, 'DNA ', 'DNA', dna_order, True, False)"
   ]
  },
  {
   "cell_type": "markdown",
   "metadata": {},
   "source": [
    "### 6.6.3. <a id='toc6_6_3_'></a>[FX: `make_boxplot`](#toc0_)\n",
    "- make a boxplot of the TE sizes of TEs in a specific class (DNA or Retro) for one genome"
   ]
  },
  {
   "cell_type": "code",
   "execution_count": 94,
   "id": "d1cb137b",
   "metadata": {
    "ExecuteTime": {
     "end_time": "2022-08-07T07:03:07.460854Z",
     "start_time": "2022-08-07T07:03:06.801608Z"
    }
   },
   "outputs": [],
   "source": [
    "dna_order = ['Zator', 'hAT', 'CMC', 'Tc1-Mariner', 'Sola', 'Novosib', 'Helitron', 'MITE']\n",
    "retro_order = ['Gypsy', 'Copia', 'LINE', 'SINE', 'ERV']\n",
    "\n",
    "def make_boxplot(dataframe, order: list, genome: str, title: str, color_palette: list, showmeans: bool, to_save: bool = False):\n",
    "    \"\"\" \n",
    "    data: TE dataframe\n",
    "    order: list, what order to plot the families along the x-axis\n",
    "    genome: str, used in the title and filename\n",
    "    title: str, something like 'DNA ' or 'Retro' to indicate what class of TEs are being plotted, used in the title and filename\n",
    "    color_palette: list, list of colors defined in the define constant variables cell for each family\n",
    "    showmeans: bool, whether or not to include a red dot at the mean TE size of each family\n",
    "    to_save: bool, whether or not to save the graph as a pdf (if False, graph will only be output into the notebook)\n",
    "    \"\"\"\n",
    "\n",
    "    sns.set_palette(sns.color_palette(color_palette))\n",
    "\n",
    "    flierprops = dict(marker='o', fillstyle = 'none')\n",
    "    meanpointprops = dict(marker='D', markerfacecolor='red', markeredgecolor = 'black')\n",
    "\n",
    "    fig, axes = plt.subplots(figsize = (12,8))\n",
    "    sns.boxplot(x = 'Family', y = 'Size', data=dataframe, ax = axes, order = order, fliersize = 5, flierprops = flierprops, showmeans = showmeans, meanprops=meanpointprops)\n",
    "\n",
    "    # axes.legend(handles=handles)\n",
    "    axes.title.set_text(f'Size Distributions of {genome} {title}TEs')\n",
    "\n",
    "    if to_save == True:\n",
    "        plt.savefig(f'TEUlt_{genome}_{title}_sizes_box.pdf', dpi=300, facecolor = 'w', edgecolor = 'w', format='pdf')"
   ]
  },
  {
   "cell_type": "code",
   "execution_count": 97,
   "metadata": {},
   "outputs": [],
   "source": [
    "# make_boxplot(CB_all_filter_df, retro_order, 'CB', 'retro', retro_color_list, True, False)"
   ]
  },
  {
   "cell_type": "markdown",
   "metadata": {},
   "source": [
    "### 6.6.4. <a id='toc6_6_4_'></a>[FX: `make_split_violin`](#toc0_)\n",
    "- makes a split violin plot to compare the distribution of TE sizes by specific family between two genomes\n",
    "- this function uses the seaborn violinplot function, so all of those parameters can be altered within the function"
   ]
  },
  {
   "cell_type": "code",
   "execution_count": 114,
   "id": "fb00febe",
   "metadata": {
    "ExecuteTime": {
     "end_time": "2022-08-07T22:05:00.115207Z",
     "start_time": "2022-08-07T22:04:58.964046Z"
    },
    "scrolled": true
   },
   "outputs": [],
   "source": [
    "def make_split_violin(strain_one: str, strain_two: str, te_type: str, to_save: bool = False):\n",
    "    \"\"\" \n",
    "    strain_one: str, name of the first strain to be compared, needs to be the exact string used to label genomes in your dataframes\n",
    "    strain_two: str, name of the second strain to be compared, needs to be the exact string used to label genomes in your dataframes\n",
    "    te_type: str, either 'dna' or 'retro', tells function what TE class to plot\n",
    "    to_save: bool, whether or not to save the graph as a pdf (if False, graph will only be output into the notebook)\n",
    "    \"\"\"\n",
    " \n",
    "    dataframe = all_filter_df[(all_filter_df['Strain'] == strain_one) | (all_filter_df['Strain'] == strain_two)]\n",
    "\n",
    "    if te_type == 'dna':  \n",
    "        order = dna_order\n",
    "        \n",
    "    \n",
    "    elif te_type == 'retro':\n",
    "        order = retro_order\n",
    "        \n",
    "\n",
    "    sns.set_style('white')\n",
    "\n",
    "    fig, ax = plt.subplots(figsize = (13, 8))\n",
    "    \n",
    "    ax = sns.violinplot(x = 'Family', \n",
    "                       y = 'Size', \n",
    "                       data = dataframe, \n",
    "                       order = order, \n",
    "                       inner = 'quartile', \n",
    "                       linewidth = 1, \n",
    "                       scale='width', \n",
    "                       hue = 'Strain', \n",
    "                       split = True,\n",
    "                       palette = colors,\n",
    "                       cut=0,\n",
    "                       alpha=1)\n",
    "    \n",
    "    ax.set_ylabel('Size', fontsize=18)\n",
    "    ax.set_xlabel('Family', fontsize=18)\n",
    "    plt.tick_params(axis='both', which='major', labelsize=16)\n",
    "    plt.legend(bbox_to_anchor=(1.005, 1), loc='upper left',fontsize=14)\n",
    "    plt.tight_layout()\n",
    "\n",
    "    if to_save:\n",
    "        plt.savefig(f'{te_type}_violin_{strain_one}_{strain_two}.pdf', dpi=300, facecolor = 'w', edgecolor = 'w', format='pdf')\n"
   ]
  },
  {
   "cell_type": "code",
   "execution_count": 1,
   "id": "5d9bd144",
   "metadata": {},
   "outputs": [],
   "source": [
    "# make_split_violin('N2', 'CB', 'dna', False)"
   ]
  },
  {
   "cell_type": "markdown",
   "metadata": {},
   "source": [
    "### 6.6.5. <a id='toc6_6_5_'></a>[FX: `make_box_allgen`](#toc0_)\n",
    "- makes a paired box plot of the size distributions of a TE class for all genomes"
   ]
  },
  {
   "cell_type": "code",
   "execution_count": 116,
   "id": "812d2695",
   "metadata": {},
   "outputs": [],
   "source": [
    "def make_box_allgen(te_type: str, to_save: bool = False):\n",
    "    \"\"\" \n",
    "    te_type: str, one of either 'dna' or 'retro', tells function what TE class to plot\n",
    "    to_save: bool, whether or not to save the graph as a pdf (if False, graph will only be output into the notebook)\n",
    "    \"\"\"\n",
    "\n",
    "    dataframe = all_filter_df\n",
    "\n",
    "    if te_type == 'dna':  \n",
    "        color_palette = dna_color_list\n",
    "        order = dna_order\n",
    "        title = 'DNA '\n",
    "        filestr = 'dna'\n",
    "    \n",
    "    elif te_type == 'retro':\n",
    "        color_palette = retro_color_list\n",
    "        order = retro_order\n",
    "        title = 'Retro-'\n",
    "        filestr = 'retro'\n",
    "\n",
    "    \n",
    "    flierprops = dict(marker='o', fillstyle = 'none')\n",
    "    meanpointprops = dict(marker='D', markerfacecolor='red', markeredgecolor = 'black')\n",
    "    sns.set_palette(sns.color_palette(color_palette))\n",
    "\n",
    "    fig, axes = plt.subplots(figsize = (12,8))\n",
    "    sns.boxplot(x = 'Family', \n",
    "                y = 'Size', \n",
    "                hue = 'Strain',\n",
    "                palette = colors,\n",
    "                data=dataframe, \n",
    "                ax = axes, \n",
    "                order = order, \n",
    "                fliersize = 5, \n",
    "                flierprops = flierprops, \n",
    "                showmeans = True, \n",
    "                meanprops=meanpointprops)\n",
    "\n",
    "    # axes.legend(handles=handles)\n",
    "    axes.title.set_text(f'Size Distributions of {title}TEs')\n",
    "    plt.legend(bbox_to_anchor=(1.005, 1), loc='upper left',fontsize=14)\n",
    "    plt.tight_layout()\n",
    "    \n",
    "    if to_save:\n",
    "        plt.savefig(f'{filestr}_box_allgenomes.pdf', dpi=300, facecolor = 'w', edgecolor = 'w', format='pdf')"
   ]
  },
  {
   "cell_type": "code",
   "execution_count": 118,
   "id": "c0065f8e",
   "metadata": {},
   "outputs": [],
   "source": [
    "# make_box_allgen('dna', to_save = False)"
   ]
  }
 ],
 "metadata": {
  "_draft": {
   "nbviewer_url": "https://gist.github.com/358760d4a6cd6836d31ee39d40c62010"
  },
  "gist": {
   "data": {
    "description": "Desktop/labfiles/reasonaTE_N2_out_final/TEUlt_reasonaTE_gff_USE_4_LTRRet_smalldf.ipynb, remaking plots with the size filtered data",
    "public": false
   },
   "id": "358760d4a6cd6836d31ee39d40c62010"
  },
  "kernelspec": {
   "display_name": "Python 3 (ipykernel)",
   "language": "python",
   "name": "python3"
  },
  "language_info": {
   "codemirror_mode": {
    "name": "ipython",
    "version": 3
   },
   "file_extension": ".py",
   "mimetype": "text/x-python",
   "name": "python",
   "nbconvert_exporter": "python",
   "pygments_lexer": "ipython3",
   "version": "3.11.5"
  },
  "toc": {
   "base_numbering": 1,
   "nav_menu": {},
   "number_sections": true,
   "sideBar": false,
   "skip_h1_title": false,
   "title_cell": "Table of Contents",
   "title_sidebar": "Contents",
   "toc_cell": true,
   "toc_position": {
    "height": "306.717px",
    "left": "1568.67px",
    "top": "110.2px",
    "width": "255.333px"
   },
   "toc_section_display": true,
   "toc_window_display": true
  },
  "toc-autonumbering": true,
  "toc-showtags": false,
  "varInspector": {
   "cols": {
    "lenName": 16,
    "lenType": 16,
    "lenVar": 40
   },
   "kernels_config": {
    "python": {
     "delete_cmd_postfix": "",
     "delete_cmd_prefix": "del ",
     "library": "var_list.py",
     "varRefreshCmd": "print(var_dic_list())"
    },
    "r": {
     "delete_cmd_postfix": ") ",
     "delete_cmd_prefix": "rm(",
     "library": "var_list.r",
     "varRefreshCmd": "cat(var_dic_list()) "
    }
   },
   "oldHeight": 441.217,
   "position": {
    "height": "40px",
    "left": "1224px",
    "right": "20px",
    "top": "110px",
    "width": "350px"
   },
   "types_to_exclude": [
    "module",
    "function",
    "builtin_function_or_method",
    "instance",
    "_Feature"
   ],
   "varInspector_section_display": "none",
   "window_display": false
  }
 },
 "nbformat": 4,
 "nbformat_minor": 5
}
