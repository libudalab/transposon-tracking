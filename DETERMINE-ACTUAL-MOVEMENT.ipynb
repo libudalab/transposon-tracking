{
 "cells": [
  {
   "cell_type": "markdown",
   "metadata": {},
   "source": [
    "**Table of contents**<a id='toc0_'></a>    \n",
    "- 1. [IMPORTS](#toc1_)    \n",
    "- 2. [IMPORT FILES](#toc2_)    \n",
    "  - 2.1. [Import and parse shatter files](#toc2_1_)    \n",
    "    - 2.1.1. [FX: `get_shatter_file`](#toc2_1_1_)    \n",
    "    - 2.1.2. [FX: `get_shatter_alignments`](#toc2_1_2_)    \n",
    "  - 2.2. [Import matching TEs .tsv file](#toc2_2_)    \n",
    "    - 2.2.1. [FX: `get_matching_tsv_file`](#toc2_2_1_)    \n",
    "- 3. [COMPARE TE POSITIONS TO ALIGNMENT POSITIONS](#toc3_)    \n",
    "  - 3.1. [FX: `compare_tes_to_shatter`](#toc3_1_)    \n",
    "- 4. [COMPARE TE START POSITIONS WITH ALIGNMENT POSITIONS](#toc4_)    \n",
    "  - 4.1. [FX: `do_comparison`](#toc4_1_)    \n",
    "- 5. [COMPARE POSITIONS AND DETERMINE MOVEMENT](#toc5_)    \n",
    "  - 5.1. [CREATE DF OF ONLY TES THAT ACTUALLY MOVED](#toc5_1_)    \n",
    "  - 5.2. [FX: `create_allmoved_bedfile`](#toc5_2_)    \n",
    "  - 5.3. [FX: `create_rideogram_tsv`](#toc5_3_)    \n",
    "\n",
    "<!-- vscode-jupyter-toc-config\n",
    "\tnumbering=true\n",
    "\tanchor=true\n",
    "\tflat=false\n",
    "\tminLevel=1\n",
    "\tmaxLevel=6\n",
    "\t/vscode-jupyter-toc-config -->\n",
    "<!-- THIS CELL WILL BE REPLACED ON TOC UPDATE. DO NOT WRITE YOUR TEXT IN THIS CELL -->"
   ]
  },
  {
   "cell_type": "markdown",
   "metadata": {},
   "source": [
    "# 1. <a id='toc1_'></a>[IMPORTS](#toc0_)"
   ]
  },
  {
   "cell_type": "code",
   "execution_count": 5,
   "id": "62a3c6b6",
   "metadata": {
    "ExecuteTime": {
     "end_time": "2022-12-07T22:35:14.214814Z",
     "start_time": "2022-12-07T22:35:13.912216Z"
    }
   },
   "outputs": [
    {
     "name": "stderr",
     "output_type": "stream",
     "text": [
      "/var/folders/60/m3wm021x08vbp7kk3s0t94c40000gn/T/ipykernel_90424/2804826839.py:1: DeprecationWarning: Importing display from IPython.core.display is deprecated since IPython 7.14, please import from IPython display\n",
      "  from IPython.core.display import display, HTML\n"
     ]
    },
    {
     "data": {
      "text/html": [
       "<style>.container { width:100% !important; }</style>"
      ],
      "text/plain": [
       "<IPython.core.display.HTML object>"
      ]
     },
     "metadata": {},
     "output_type": "display_data"
    }
   ],
   "source": [
    "from IPython.core.display import display, HTML\n",
    "display(HTML(\"<style>.container { width:100% !important; }</style>\"))\n",
    "\n",
    "from matplotlib import cm\n",
    "import seaborn as sns\n",
    "sns.set(style=\"whitegrid\")\n",
    "from Bio import SeqIO\n",
    "from Bio.Seq import Seq\n",
    "# from matplotlib_venn import venn2, venn2_circles, venn3, venn3_circles\n",
    "from __future__ import with_statement\n",
    "import numpy as np\n",
    "import random\n",
    "import matplotlib.pyplot as plt\n",
    "import pandas as pd\n",
    "from matplotlib.pyplot import figure as fig\n",
    "import csv\n",
    "import sys\n",
    "import seaborn as sns\n",
    "import scipy\n",
    "from scipy import stats as stats\n",
    "from scipy.stats import norm as norm\n",
    "# import xlsxwriter\n",
    "# from dataprep.eda import create_report\n",
    "import argparse\n",
    "# %load_ext nbtutor"
   ]
  },
  {
   "cell_type": "markdown",
   "metadata": {},
   "source": [
    "# 2. <a id='toc2_'></a>[IMPORT FILES](#toc0_)\n",
    "## 2.1. <a id='toc2_1_'></a>[Import and parse shatter files](#toc0_)\n",
    "### 2.1.1. <a id='toc2_1_1_'></a>[FX: `get_shatter_file`](#toc0_)\n",
    "- import shatter alignment file and return list of the lines of the file\n",
    "\n",
    "### 2.1.2. <a id='toc2_1_2_'></a>[FX: `get_shatter_alignments`](#toc0_)\n",
    "- parse through the shatter lines and return two lists, one with chain info and one with alignment info"
   ]
  },
  {
   "cell_type": "code",
   "execution_count": 6,
   "id": "d152e52f",
   "metadata": {
    "ExecuteTime": {
     "end_time": "2022-12-07T22:35:14.221472Z",
     "start_time": "2022-12-07T22:35:14.217101Z"
    }
   },
   "outputs": [],
   "source": [
    "def get_shatter_file(shatter_file: str):\n",
    "    \"\"\" \n",
    "    shatter_file: str, filepath of shatter alignment file\n",
    "    \"\"\"\n",
    "    \n",
    "    shatter_lines = []\n",
    "    \n",
    "    with open(shatter_file, newline ='') as lines:\n",
    "        shatter_reader = csv.reader(lines, delimiter=' ')\n",
    "        for line in shatter_reader:\n",
    "            \n",
    "            shatter_lines.append(line)\n",
    "            \n",
    "    return shatter_lines\n",
    "\n",
    "def get_shatter_alignments(shatter_lines: list):\n",
    "    \"\"\" \n",
    "    shatter_lines: list, output from `get_shatter_file` fx\n",
    "    \"\"\"\n",
    "    \n",
    "    bases = [\"A\", \"T\", \"G\", \"C\", \"-\", \"N\"]\n",
    "    \n",
    "    chain_info = []\n",
    "    alignments = []\n",
    "    \n",
    "    for i in range(len(shatter_lines)):\n",
    "        \n",
    "        if shatter_lines[i][0][0] != \">\" and shatter_lines[i][0][0] not in bases:\n",
    "            \n",
    "            chain_line=shatter_lines[i]\n",
    "            chain_line[2] = int(chain_line[2])\n",
    "            chain_line[3] = int(chain_line[3])\n",
    "            chain_line[5] = int(chain_line[5])\n",
    "            chain_line[6] = int(chain_line[6])\n",
    "            chain_info.append(chain_line)\n",
    "            \n",
    "        elif shatter_lines[i][0] in bases:\n",
    "            \n",
    "            align_line = shatter_lines[i]\n",
    "            align_line[1]=int(align_line[1])\n",
    "            align_line[3]=int(align_line[3])\n",
    "            alignments.append(align_line)\n",
    "            \n",
    "            \n",
    "    \n",
    "    return chain_info, alignments"
   ]
  },
  {
   "cell_type": "markdown",
   "metadata": {},
   "source": [
    "## 2.2. <a id='toc2_2_'></a>[Import matching TEs .tsv file](#toc0_)\n",
    "### 2.2.1. <a id='toc2_2_1_'></a>[FX: `get_matching_tsv_file`](#toc0_)\n",
    "- import the .tsv file generated using the `create_tsv_file` function with the `include_ids` option set to **True** in the TRACKING notebook"
   ]
  },
  {
   "cell_type": "code",
   "execution_count": 16,
   "id": "49d3be25",
   "metadata": {
    "ExecuteTime": {
     "end_time": "2022-12-07T22:35:28.044896Z",
     "start_time": "2022-12-07T22:35:28.039841Z"
    }
   },
   "outputs": [],
   "source": [
    "def get_matching_tsv_file(matching_file: str):\n",
    "    \"\"\" \n",
    "    matching_file: str, filepath to matchingTEs .tsv file\n",
    "    \"\"\"\n",
    "    \n",
    "    matching_lines_list = []\n",
    "    \n",
    "    with open(matching_file) as matching_lines:\n",
    "        \n",
    "        matching_line_reader = csv.reader(matching_lines, delimiter='\\t')\n",
    "        \n",
    "        for line in matching_line_reader:\n",
    "            \n",
    "            matching_lines_list.append(line)\n",
    "    return matching_lines_list"
   ]
  },
  {
   "cell_type": "markdown",
   "metadata": {},
   "source": [
    "# 3. <a id='toc3_'></a>[COMPARE TE POSITIONS TO ALIGNMENT POSITIONS](#toc0_)\n",
    "\n",
    "## 3.1. <a id='toc3_1_'></a>[FX: `compare_tes_to_shatter`](#toc0_)\n",
    "\n",
    "1. for each row in TE dataframe, get N2 start position from shatter and the corresponding CB start position from the alignment\n",
    "2. for that row in the TE dataframe, check if CB TE start position against alignment position\n",
    "    - if the same: 'movement' is due to position differences because of alignment \n",
    "    - if different: 'movement' is real"
   ]
  },
  {
   "cell_type": "code",
   "execution_count": 10,
   "id": "1de11fda",
   "metadata": {
    "ExecuteTime": {
     "end_time": "2022-12-07T22:35:33.249751Z",
     "start_time": "2022-12-07T22:35:33.240430Z"
    }
   },
   "outputs": [],
   "source": [
    "def compare_tes_to_shatter(tes_df, aligns_df):\n",
    "    \"\"\" \n",
    "    tes_df: TE dataframe\n",
    "    aligns_df: dataframe created \n",
    "    \"\"\"\n",
    "    same_list = []\n",
    "    different_samechr_list = []\n",
    "    different_diffchr_list = []\n",
    "    what_list = []\n",
    "\n",
    "    for index, row in tes_df.iterrows():\n",
    "\n",
    "        n2_chrom = tes_df.at[index, 'n2_chrom']\n",
    "        n2_start = tes_df.at[index, 'n2_start']\n",
    "\n",
    "        cb_chrom = tes_df.at[index, 'cb_chrom']\n",
    "        cb_start = tes_df.at[index, 'cb_start']\n",
    "\n",
    "\n",
    "        if n2_chrom == cb_chrom: # if the transposons are on the same chromosome in both N2 and CB\n",
    "\n",
    "            n2_alignment_idx = aligns_df.index[aligns_df['n2_pos'] == n2_start].tolist() # get the alignment index for the N2 TE start position\n",
    "\n",
    "            if len(n2_alignment_idx) != 0:\n",
    "                \n",
    "                cb_alignment_pos = aligns_df.at[n2_alignment_idx[0], 'cb_pos'] # get the CB alignment position using the N2 TE start position alignment index\n",
    "\n",
    "            else:\n",
    "#                 print('what')\n",
    "                what_list.append(row)\n",
    "\n",
    "#             print('n2 TE:', n2_start)\n",
    "#             print('cb TE:', cb_start, 'cb alignment:', cb_alignment_pos)\n",
    "\n",
    "            if cb_start == cb_alignment_pos: # if the cb te start position is the same as the cb alignment position\n",
    "                \n",
    "#                 print('same alignment pos and TE start, no movement')\n",
    "                same_list.append(row)\n",
    "                \n",
    "            else: # if the cb te start position is different from the cb alignment position\n",
    "                \n",
    "#                 print('different alignment pos and TE start, movement')\n",
    "                different_samechr_list.append(row)\n",
    "\n",
    "        elif n2_chrom != cb_chrom: # if the transposons are on different chromosomes in N2 and CB, then there was movement\n",
    "            \n",
    "#             print('different chromosomes, movement')\n",
    "            \n",
    "            different_diffchr_list.append(row)\n",
    "\n",
    "    \n",
    "    print('same', len(same_list))\n",
    "    print('diff samechr', len(different_samechr_list))\n",
    "    print('diff diffchr', len(different_diffchr_list)) \n",
    "    print('n2 start pos not in alignment file', len(what_list))\n",
    "    \n",
    "    same_df = pd.DataFrame(same_list)\n",
    "    diff_samechr_df = pd.DataFrame(different_samechr_list)\n",
    "    diff_diffchr_df = pd.DataFrame(different_diffchr_list)\n",
    "    what_df = pd.DataFrame(what_list)\n",
    "    \n",
    "    return same_df, diff_samechr_df, diff_diffchr_df, what_df"
   ]
  },
  {
   "cell_type": "code",
   "execution_count": 11,
   "id": "38a13f74",
   "metadata": {
    "ExecuteTime": {
     "end_time": "2022-12-07T22:35:34.345336Z",
     "start_time": "2022-12-07T22:35:34.335251Z"
    }
   },
   "outputs": [],
   "source": [
    "## chromosome V file was organized in opposite way so needed separate function\n",
    "\n",
    "def compare_tes_to_shatterV(tes_df, aligns_df):\n",
    "    same_list = []\n",
    "    different_samechr_list = []\n",
    "    different_diffchr_list = []\n",
    "    what_list = []\n",
    "\n",
    "    for index, row in tes_df.iterrows():\n",
    "\n",
    "        n2_chrom = tes_df.at[index, 'n2_chrom']\n",
    "        n2_start = tes_df.at[index, 'n2_start']\n",
    "\n",
    "        cb_chrom = tes_df.at[index, 'cb_chrom']\n",
    "        cb_start = tes_df.at[index, 'cb_start']\n",
    "\n",
    "\n",
    "        if n2_chrom == cb_chrom: # if the transposons are on the same chromosome in both N2 and CB\n",
    "\n",
    "            cb_alignment_idx = aligns_df.index[aligns_df['n2_pos'] == cb_start].tolist() # get the alignment index for the CB TE start position\n",
    "\n",
    "            if len(cb_alignment_idx) != 0:\n",
    "                \n",
    "                n2_alignment_pos = aligns_df.at[cb_alignment_idx[0], 'cb_pos'] # get the CB alignment position using the N2 TE start position alignment index\n",
    "\n",
    "            else:\n",
    "#                 print('what')\n",
    "                what_list.append(row)\n",
    "\n",
    "#             print('n2 TE:', n2_start)\n",
    "#             print('cb TE:', cb_start, 'cb alignment:', cb_alignment_pos)\n",
    "\n",
    "            if n2_start == n2_alignment_pos:\n",
    "                \n",
    "#                 print('same alignment pos and TE start, no movement')\n",
    "                same_list.append(row)\n",
    "                \n",
    "            else:\n",
    "                \n",
    "#                 print('different alignment pos and TE start, movement')\n",
    "                different_samechr_list.append(row)\n",
    "\n",
    "        elif n2_chrom != cb_chrom: # if the transposons are on different chromosomes in N2 and CB\n",
    "            \n",
    "#             print('different chromosomes, movement')\n",
    "            \n",
    "            different_diffchr_list.append(row)\n",
    "\n",
    "    print('same', len(same_list))\n",
    "    print('diff samechr', len(different_samechr_list))\n",
    "    print('diff diffchr', len(different_diffchr_list)) \n",
    "    print('n2 start pos not in alignment file', len(what_list))\n",
    "    \n",
    "    same_df = pd.DataFrame(same_list)\n",
    "    diff_samechr_df = pd.DataFrame(different_samechr_list)\n",
    "    diff_diffchr_df = pd.DataFrame(different_diffchr_list)\n",
    "    what_df = pd.DataFrame(what_list)\n",
    "    \n",
    "    return same_df, diff_samechr_df, diff_diffchr_df, what_df"
   ]
  },
  {
   "cell_type": "markdown",
   "metadata": {},
   "source": [
    "# 4. <a id='toc4_'></a>[COMPARE TE START POSITIONS WITH ALIGNMENT POSITIONS](#toc0_)\n",
    "## 4.1. <a id='toc4_1_'></a>[FX: `do_comparison`](#toc0_)\n",
    "- this function wraps the previous functions to import the shatter file, get the TE dataframe, compare the alignment positions to the TE locations and then returns 4 different lists containing the info for the unique TE in N2 and CB \n",
    "- can also save the results to an excel file with 4 different sheets (one sheet per list)\n",
    "  - `same_df`: N2 TEs whose CB start position is the same as the CB alignment adjusted position, indicating no real TE movement\n",
    "  - `diff_samechr_df`: N2 TEs whose CB start position is different than the CB alignment adjusted position, indicating movement\n",
    "  - `diff_diffchr_df`: N2 TEs whose CB start position is on a different chromosome, indicating movement\n",
    "  - `what_df`: N2 TEs whose CB start position is not in the alignment file\n",
    "- output excel file has the following format \\\n",
    "**n2_id\t| n2_chrom |\tn2_start |\tn2_stop |\tcb_id |\tcb_chrom |\tcb_start |\tcb_stop**"
   ]
  },
  {
   "cell_type": "code",
   "execution_count": 14,
   "id": "74011686",
   "metadata": {
    "ExecuteTime": {
     "end_time": "2022-12-07T22:35:36.888049Z",
     "start_time": "2022-12-07T22:35:36.880449Z"
    }
   },
   "outputs": [],
   "source": [
    "def do_comparison(shatter_file_list_index: int, tes_df_list_index: int, chr_title: str, to_save: bool = False):\n",
    "    \"\"\" \n",
    "    shatter_file_list_index: int, index of the shatter_file needed in the shatter_file_list\n",
    "    tes_df_list_index: int, index of the tes_df needed in the tes_df_list\n",
    "    chr_title: str, used to name excel file\n",
    "    to_save: bool, whether to save results to excel file\n",
    "    \"\"\"\n",
    "    \n",
    "    chromosome = get_shatter_file(shatter_file_list[shatter_file_list_index])\n",
    "    \n",
    "    chr_chains, chr_aligns = get_shatter_alignments(chromosome)\n",
    "    \n",
    "    aligns_df = pd.DataFrame(chr_aligns, columns = ['n2','n2_pos', 'cb', 'cb_pos'])\n",
    "\n",
    "    convert_dict = {'n2_pos': int,\n",
    "                    'cb_pos': int }  \n",
    "    aligns_df = aligns_df.astype(convert_dict)  \n",
    "    \n",
    "    \n",
    "    tes_df = tes_df_list[tes_df_list_index]\n",
    "    \n",
    "    print(chr_title)\n",
    "    same_df, diff_samechr_df, diff_diffchr_df, what_df = compare_tes_to_shatter(tes_df, aligns_df)\n",
    "    \n",
    "    if to_save: \n",
    "        writer = pd.ExcelWriter(f'{chr_title}_tes_alignments.xlsx', engine='xlsxwriter')\n",
    "        same_df.to_excel(writer, sheet_name='samepos')\n",
    "        diff_samechr_df.to_excel(writer, sheet_name='diffpos_samechr')\n",
    "        diff_diffchr_df.to_excel(writer, sheet_name='diffpos_diffchr')\n",
    "        what_df.to_excel(writer, sheet_name='what')\n",
    "        writer.save()\n",
    "    \n",
    "    return aligns_df, tes_df, same_df, diff_samechr_df, diff_diffchr_df, what_df"
   ]
  },
  {
   "cell_type": "code",
   "execution_count": 15,
   "id": "874c6907",
   "metadata": {
    "ExecuteTime": {
     "end_time": "2022-12-07T22:35:38.318576Z",
     "start_time": "2022-12-07T22:35:38.312241Z"
    }
   },
   "outputs": [],
   "source": [
    "## chromosome V file was organized in opposite way so needed separate function\n",
    "\n",
    "def do_comparisonV(shatter_file_list_index, tes_df_list_index, chr_title):\n",
    "\n",
    "        \"\"\" \n",
    "        shatter_file_list_index: int, index of the shatter_file needed in the shatter_file_list\n",
    "        tes_df_list_index: int, index of the tes_df needed in the tes_df_list\n",
    "        chr_title: str, used to name excel file\n",
    "        to_save: bool, whether to save results to excel file\n",
    "        \"\"\"\n",
    "    \n",
    "        chromosome = get_shatter_file(shatter_file_list[shatter_file_list_index])\n",
    "\n",
    "        chr_chains, chr_aligns = get_shatter_alignments(chromosome)\n",
    "\n",
    "        aligns_df = pd.DataFrame(chr_aligns, columns = ['n2','n2_pos', 'cb', 'cb_pos'])\n",
    "\n",
    "        convert_dict = {'n2_pos': int,\n",
    "                        'cb_pos': int }  \n",
    "        aligns_df = aligns_df.astype(convert_dict)  \n",
    "        # print(chr1_aligns_df.dtypes)            \n",
    "\n",
    "        tes_df = tes_df_list[tes_df_list_index]\n",
    "\n",
    "        print(chr_title)\n",
    "        same_df, diff_samechr_df, diff_diffchr_df, what_df = compare_tes_to_shatterV(tes_df, aligns_df)\n",
    "\n",
    "        if to_save: \n",
    "                writer = pd.ExcelWriter(f'{chr_title}_tes_alignments.xlsx', engine='xlsxwriter')\n",
    "                same_df.to_excel(writer, sheet_name='samepos')\n",
    "                diff_samechr_df.to_excel(writer, sheet_name='diffpos_samechr')\n",
    "                diff_diffchr_df.to_excel(writer, sheet_name='diffpos_diffchr')\n",
    "                what_df.to_excel(writer, sheet_name='what')\n",
    "                writer.save()\n",
    "\n",
    "        return aligns_df, tes_df, same_df, diff_samechr_df, diff_diffchr_df, what_df"
   ]
  },
  {
   "cell_type": "markdown",
   "metadata": {},
   "source": [
    "# 5. <a id='toc5_'></a>[COMPARE POSITIONS AND DETERMINE MOVEMENT](#toc0_)"
   ]
  },
  {
   "cell_type": "code",
   "execution_count": 4,
   "id": "d466b6f3",
   "metadata": {
    "ExecuteTime": {
     "end_time": "2022-12-07T22:35:14.240017Z",
     "start_time": "2022-12-07T22:35:14.235433Z"
    }
   },
   "outputs": [],
   "source": [
    "shatter_file_list = ['N2_to_CB_chrI.N2net.sort.axt.shatter', \n",
    "                     'N2_to_CB_chrII.N2net.sort.axt.shatter', \n",
    "                     'N2_to_CB_chrIII.N2net.sort.axt.shatter', \n",
    "                     'N2_to_CB_chrIV.N2net.sort.axt.shatter', \n",
    "                     'CB_to_N2_chrV.N2net.sort.axt.shatter', \n",
    "                     'N2_to_CB_chrX.N2net.sort.axt.shatter']\n",
    "\n",
    "n2_chrom_lengths = np.array( [15114068, 15311845, 13819453, 17493838, 20953657, 17739129] )\n",
    "cb_chrom_lengths = np.array( [15045644, 15257363, 13206755, 17183882, 20547529, 17584915] )"
   ]
  },
  {
   "cell_type": "code",
   "execution_count": 17,
   "id": "3925b86a",
   "metadata": {
    "ExecuteTime": {
     "end_time": "2022-12-07T22:35:27.764875Z",
     "start_time": "2022-12-07T22:35:27.761383Z"
    }
   },
   "outputs": [],
   "source": [
    "matching_file = 'matchingTEs_info_ids.tsv'\n",
    "matching_lines_list = get_matching_tsv_file(matching_file)\n",
    "\n",
    "tes_df = pd.DataFrame(matching_lines_list[1:], columns = ['n2_id','n2_chrom', 'n2_start', 'n2_stop', 'cb_id', 'cb_chrom', 'cb_start', 'cb_stop'])\n",
    "convert_dict2 = {'n2_id' : int,'n2_chrom': int, 'n2_start': int, 'n2_stop': int, 'cb_id': int, 'cb_chrom': int, 'cb_start': int, 'cb_stop': int}  \n",
    "  \n",
    "tes_df = tes_df.astype(convert_dict2)  \n",
    "# print(tes_df.dtypes)"
   ]
  },
  {
   "cell_type": "code",
   "execution_count": 9,
   "id": "02dcffef",
   "metadata": {
    "ExecuteTime": {
     "end_time": "2022-12-07T22:35:29.655682Z",
     "start_time": "2022-12-07T22:35:29.643962Z"
    }
   },
   "outputs": [],
   "source": [
    "chr1_tes_df = tes_df[tes_df['n2_chrom'] == 1]\n",
    "chr2_tes_df = tes_df[tes_df['n2_chrom'] == 2]\n",
    "chr3_tes_df = tes_df[tes_df['n2_chrom'] == 3]\n",
    "chr4_tes_df = tes_df[tes_df['n2_chrom'] == 4]\n",
    "chr5_tes_df = tes_df[tes_df['n2_chrom'] == 5]\n",
    "chrX_tes_df = tes_df[tes_df['n2_chrom'] == 6]\n",
    "\n",
    "tes_df_list = [chr1_tes_df, chr2_tes_df, chr3_tes_df, chr4_tes_df, chr5_tes_df, chrX_tes_df]"
   ]
  },
  {
   "cell_type": "code",
   "execution_count": null,
   "id": "3ef2d628",
   "metadata": {
    "ExecuteTime": {
     "end_time": "2022-12-07T22:36:00.456527Z",
     "start_time": "2022-12-07T22:36:00.405753Z"
    }
   },
   "outputs": [],
   "source": [
    "chr1_aligns_df, chr1_tes_df, chr1_same_df, chr1_diff_samechr_df, chr1_diff_diffchr_df, chr1_what_df = do_comparison(0, 0, 'chr1')\n",
    "chr2_aligns_df, chr2_tes_df, chr2_same_df, chr2_diff_samechr_df, chr2_diff_diffchr_df, chr2_what_df = do_comparison(1, 1, 'chr2')\n",
    "chr3_aligns_df, chr3_tes_df, chr3_same_df, chr3_diff_samechr_df, chr3_diff_diffchr_df, chr3_what_df = do_comparison(2, 2, 'chr3')\n",
    "chr4_aligns_df, chr4_tes_df, chr4_same_df, chr4_diff_samechr_df, chr4_diff_diffchr_df, chr4_what_df = do_comparison(3, 3, 'chr4')\n",
    "chr5_aligns_df, chr5_tes_df, chr5_same_df, chr5_diff_samechr_df, chr5_diff_diffchr_df, chr5_what_df = do_comparisonV(4, 4, 'chr5')\n",
    "chrX_aligns_df, chrX_tes_df, chrX_same_df, chrX_diff_samechr_df, chrX_diff_diffchr_df, chrX_what_df = do_comparison(5, 5, 'chrX')"
   ]
  },
  {
   "cell_type": "markdown",
   "metadata": {},
   "source": [
    "## 5.1. <a id='toc5_1_'></a>[CREATE DF OF ONLY TES THAT ACTUALLY MOVED](#toc0_)"
   ]
  },
  {
   "cell_type": "code",
   "execution_count": null,
   "id": "60e824be",
   "metadata": {
    "ExecuteTime": {
     "end_time": "2022-12-07T22:35:57.396026Z",
     "start_time": "2022-12-07T22:35:57.375135Z"
    }
   },
   "outputs": [],
   "source": [
    "actually_moved = [chr1_diff_samechr_df, chr1_diff_diffchr_df, \n",
    "                  chr2_diff_samechr_df, chr2_diff_diffchr_df, \n",
    "                  chr3_diff_samechr_df, chr3_diff_diffchr_df,\n",
    "                  chr4_diff_samechr_df, chr4_diff_diffchr_df,\n",
    "                  chr5_diff_samechr_df, chr5_diff_diffchr_df,\n",
    "                  chrX_diff_samechr_df, chrX_diff_diffchr_df]\n",
    "\n",
    "\n",
    "\n",
    "all_moved = pd.concat(actually_moved, ignore_index=True)\n",
    "all_moved"
   ]
  },
  {
   "cell_type": "code",
   "execution_count": 113,
   "id": "e083c3f6",
   "metadata": {
    "ExecuteTime": {
     "end_time": "2022-09-13T19:55:00.310230Z",
     "start_time": "2022-09-13T19:55:00.307108Z"
    }
   },
   "outputs": [],
   "source": [
    "moved_chrom_id = ['1', '2', '3', '4', '5', '6']\n",
    "n2_chromosomes = ['N2_chrI', 'N2_chrII', 'N2_chrIII', 'N2_chrIV', 'N2_chrV', 'N2_chrX']\n",
    "cb_chromosomes = ['CB_chrI', 'CB_chrII', 'CB_chrIII', 'CB_chrIV', 'CB_chrV', 'CB_chrX']\n",
    "# for i in range(6):\n",
    "        \n",
    "#         gff_df['Chromosome'] = gff_df['Chromosome'].replace(gff_chrom_id[i], chromosomes[i])"
   ]
  },
  {
   "cell_type": "markdown",
   "metadata": {},
   "source": [
    "## 5.2. <a id='toc5_2_'></a>[FX: `create_allmoved_bedfile`](#toc0_)\n",
    "- creates a bedfile of the N2 start and stop positions of the TEs that moved "
   ]
  },
  {
   "cell_type": "code",
   "execution_count": 19,
   "id": "21411087",
   "metadata": {
    "ExecuteTime": {
     "end_time": "2022-11-28T21:28:01.491021Z",
     "start_time": "2022-11-28T21:28:01.452180Z"
    }
   },
   "outputs": [],
   "source": [
    "def create_allmoved_bedfile(all_moved, to_save: bool = False):\n",
    "    \"\"\" \n",
    "    all_moved: the dataframe created above\n",
    "    to_save: bool, whether to save results to bed file\n",
    "    \"\"\"\n",
    "    for index, row in all_moved.iterrows():\n",
    "        n2_stop = all_moved.at[index, 'n2_stop']\n",
    "        n2_start = all_moved.at[index, 'n2_start']\n",
    "        all_moved.at[index, 'size'] = n2_stop-n2_start\n",
    "        \n",
    "        all_moved.at[index, 'space'] = '-'\n",
    "        all_moved.at[index, 'space2'] = '-'\n",
    "        all_moved.at[index, 'space3'] = '-'\n",
    "        all_moved.at[index, 'space4'] = '-'\n",
    "        \n",
    "        n2_id = all_moved.at[index, 'n2_id']\n",
    "        \n",
    "        all_moved.at[index, 'unique_id'] = f'TRANS{n2_id}'\n",
    "        all_moved.at[index, 'anno_type'] = f'TRANS'\n",
    "        \n",
    "        n2_chr = all_moved.at[index, 'n2_chrom']\n",
    "        cb_chr = all_moved.at[index, 'cb_chrom']\n",
    "        if n2_chr == cb_chr:\n",
    "            all_moved.at[index, 'is interchromosomal?'] = 'no'\n",
    "        else:\n",
    "            all_moved.at[index, 'is interchromosomal?'] = 'yes'\n",
    "            \n",
    "    #     all_moved.at[index, 'n2_chrom'].replace(gff_chrom_id[i], chromosomes[i])\n",
    "\n",
    "    convert_dict = {'n2_chrom': str,\n",
    "                    'cb_chrom': str }  \n",
    "    all_moved = all_moved.astype(convert_dict) \n",
    "\n",
    "    for i in range(6):\n",
    "        all_moved['n2_chrom'].replace(to_replace=moved_chrom_id[i], value=n2_chromosomes[i], inplace = True)\n",
    "        all_moved['cb_chrom'].replace(to_replace=moved_chrom_id[i], value=cb_chromosomes[i], inplace = True)\n",
    "\n",
    "\n",
    "    all_moved_cols = ['n2_chrom', 'n2_start',  'n2_stop', 'space', 'space2', 'cb_chrom', 'cb_start', 'cb_stop', 'unique_id', 'anno_type', 'space3', 'space4']\n",
    "    all_moved = all_moved[all_moved_cols]\n",
    "\n",
    "    all_moved_cols_bed = ['n2_chrom', 'n2_start', 'n2_stop']\n",
    "    all_moved_bed = all_moved[all_moved_cols_bed]\n",
    "\n",
    "    for i, r in all_moved_bed.iterrows():\n",
    "        all_moved_bed.at[i, 'genome_name'] = 'N2'\n",
    "        all_moved_bed.at[i, 'tags'] = 'mt:o;mc:red;ms:3'\n",
    "\n",
    "    # moved_tes_syriformat = []\n",
    "    if to_save:\n",
    "        all_moved_bed.to_csv('all_moved.bed', index=False, header=False, sep = '\\t')\n",
    "\n",
    "    return all_moved_bed"
   ]
  },
  {
   "cell_type": "markdown",
   "metadata": {},
   "source": [
    "## 5.3. <a id='toc5_3_'></a>[FX: `create_rideogram_tsv`](#toc0_)\n",
    "- creates a tsv file of the actually moved TEs that is compatible with RIdeogram"
   ]
  },
  {
   "cell_type": "code",
   "execution_count": null,
   "metadata": {},
   "outputs": [],
   "source": [
    "def create_rideogram_tsv(all_moved, to_save: bool = False):\n",
    "    \"\"\" \n",
    "    all_moved: dataframe of moved TEs\n",
    "    to_save: bool, whether to save results to RIdeogram compatible tsv file\n",
    "    \"\"\"\n",
    "\n",
    "    rideogram_cols = ['n2_chrom', 'n2_start', 'n2_stop', 'cb_chrom', 'cb_start', 'cb_stop']\n",
    "\n",
    "    color = ['000000']*len(dataframe.n2_chrom)\n",
    "    all_moved['fill'] = color\n",
    "\n",
    "    rideogram_df = all_moved[rideogram_cols]\n",
    "\n",
    "    if to_save:\n",
    "        rideogram_df.to_csv('rideogram_allmovedTEs.tsv', index=False, header=False, sep = '\\t')\n",
    "\n",
    "    \n"
   ]
  },
  {
   "cell_type": "code",
   "execution_count": null,
   "id": "a56455cc",
   "metadata": {},
   "outputs": [],
   "source": []
  }
 ],
 "metadata": {
  "kernelspec": {
   "display_name": "Python 3 (ipykernel)",
   "language": "python",
   "name": "python3"
  },
  "language_info": {
   "codemirror_mode": {
    "name": "ipython",
    "version": 3
   },
   "file_extension": ".py",
   "mimetype": "text/x-python",
   "name": "python",
   "nbconvert_exporter": "python",
   "pygments_lexer": "ipython3",
   "version": "3.11.5"
  },
  "toc": {
   "base_numbering": 1,
   "nav_menu": {
    "height": "147px",
    "width": "160px"
   },
   "number_sections": true,
   "sideBar": false,
   "skip_h1_title": false,
   "title_cell": "Table of Contents",
   "title_sidebar": "Contents",
   "toc_cell": false,
   "toc_position": {},
   "toc_section_display": false,
   "toc_window_display": false
  },
  "varInspector": {
   "cols": {
    "lenName": 16,
    "lenType": 16,
    "lenVar": 40
   },
   "kernels_config": {
    "python": {
     "delete_cmd_postfix": "",
     "delete_cmd_prefix": "del ",
     "library": "var_list.py",
     "varRefreshCmd": "print(var_dic_list())"
    },
    "r": {
     "delete_cmd_postfix": ") ",
     "delete_cmd_prefix": "rm(",
     "library": "var_list.r",
     "varRefreshCmd": "cat(var_dic_list()) "
    }
   },
   "position": {
    "height": "408.85px",
    "left": "1454px",
    "right": "20px",
    "top": "120px",
    "width": "350px"
   },
   "types_to_exclude": [
    "module",
    "function",
    "builtin_function_or_method",
    "instance",
    "_Feature"
   ],
   "window_display": false
  }
 },
 "nbformat": 4,
 "nbformat_minor": 5
}
